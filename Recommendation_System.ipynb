{
  "nbformat": 4,
  "nbformat_minor": 0,
  "metadata": {
    "colab": {
      "name": "Recommendation System.ipynb",
      "version": "0.3.2",
      "provenance": []
    },
    "kernelspec": {
      "display_name": "Python [conda env:Anaconda3]",
      "language": "python",
      "name": "conda-env-Anaconda3-py"
    }
  },
  "cells": [
    {
      "cell_type": "markdown",
      "metadata": {
        "id": "view-in-github",
        "colab_type": "text"
      },
      "source": [
        "[View in Colaboratory](https://colab.research.google.com/github/divsinha99/Million_Song_Recommender/blob/master/Recommendation_System.ipynb)"
      ]
    },
    {
      "metadata": {
        "id": "XW1J-MFdW2iZ",
        "colab_type": "text"
      },
      "cell_type": "markdown",
      "source": [
        "## Recommendation Engines\n",
        "\n",
        "The basis of a Recommendation Engine --> Recorded interaction between the Users & Products.\n",
        "\n",
        "For Example: A movie Recommendation Engine will be based on the Ratings (interaction) provided by the Users to different movies.\n",
        "\n",
        "\n",
        "## Types of Recommendation Engine:\n",
        "Depends upon the entity that they assume is the most important for generating Recommendations.\n",
        "\n",
        "### - User-Based Recommendation Engines: \n",
        "Central Entity --> User (will look for similarities among Users)\n",
        "### - Content-Based Recommendation Engines: \n",
        "Central Entity --> Content (tries to find features about the content & find similar Content. Here, entity will be Songs we are trying to recommend).\n",
        "### - Hybrid-Recommendation Engines (Collaborative Filtering): \n",
        "Uses both features of User & Content  to develop recommendations."
      ]
    },
    {
      "metadata": {
        "id": "-JuTF1XJW2ie",
        "colab_type": "code",
        "colab": {}
      },
      "cell_type": "code",
      "source": [
        "import pandas as pd"
      ],
      "execution_count": 0,
      "outputs": []
    },
    {
      "metadata": {
        "id": "whRHrhd_W2iq",
        "colab_type": "code",
        "colab": {},
        "outputId": "d089084b-bd9d-4c63-821e-2475eaaa0774"
      },
      "cell_type": "code",
      "source": [
        "triplet_dataset_sub_song_merged = pd.read_csv(\"triplet_dataset_sub_song_merged.csv\")\n",
        "triplet_dataset_sub_song_merged.head()"
      ],
      "execution_count": 0,
      "outputs": [
        {
          "output_type": "execute_result",
          "data": {
            "text/html": [
              "<div>\n",
              "<table border=\"1\" class=\"dataframe\">\n",
              "  <thead>\n",
              "    <tr style=\"text-align: right;\">\n",
              "      <th></th>\n",
              "      <th>user</th>\n",
              "      <th>song</th>\n",
              "      <th>listen_count</th>\n",
              "      <th>title</th>\n",
              "      <th>release</th>\n",
              "      <th>artist_mbid</th>\n",
              "      <th>artist_name</th>\n",
              "      <th>year</th>\n",
              "    </tr>\n",
              "  </thead>\n",
              "  <tbody>\n",
              "    <tr>\n",
              "      <th>0</th>\n",
              "      <td>d6589314c0a9bcbca4fee0c93b14bc402363afea</td>\n",
              "      <td>SOADQPP12A67020C82</td>\n",
              "      <td>12</td>\n",
              "      <td>You And Me Jesus</td>\n",
              "      <td>Tribute To Jake Hess</td>\n",
              "      <td>d8881a78-e6c6-4cd7-bd43-1a6c4b8ef4ba</td>\n",
              "      <td>Jake Hess</td>\n",
              "      <td>2004.0</td>\n",
              "    </tr>\n",
              "    <tr>\n",
              "      <th>1</th>\n",
              "      <td>d6589314c0a9bcbca4fee0c93b14bc402363afea</td>\n",
              "      <td>SOAFTRR12AF72A8D4D</td>\n",
              "      <td>1</td>\n",
              "      <td>Harder Better Faster Stronger</td>\n",
              "      <td>Discovery</td>\n",
              "      <td>056e4f3e-d505-4dad-8ec1-d04f521cbb56</td>\n",
              "      <td>Daft Punk</td>\n",
              "      <td>2007.0</td>\n",
              "    </tr>\n",
              "    <tr>\n",
              "      <th>2</th>\n",
              "      <td>d6589314c0a9bcbca4fee0c93b14bc402363afea</td>\n",
              "      <td>SOANQFY12AB0183239</td>\n",
              "      <td>1</td>\n",
              "      <td>Uprising</td>\n",
              "      <td>Uprising</td>\n",
              "      <td>fd857293-5ab8-40de-b29e-55a69d4e4d0f</td>\n",
              "      <td>Muse</td>\n",
              "      <td>0.0</td>\n",
              "    </tr>\n",
              "    <tr>\n",
              "      <th>3</th>\n",
              "      <td>d6589314c0a9bcbca4fee0c93b14bc402363afea</td>\n",
              "      <td>SOAYATB12A6701FD50</td>\n",
              "      <td>1</td>\n",
              "      <td>Breakfast At Tiffany's</td>\n",
              "      <td>Home</td>\n",
              "      <td>ae3f6a8a-c465-4707-8667-8ce0172bc417</td>\n",
              "      <td>Deep Blue Something</td>\n",
              "      <td>1993.0</td>\n",
              "    </tr>\n",
              "    <tr>\n",
              "      <th>4</th>\n",
              "      <td>d6589314c0a9bcbca4fee0c93b14bc402363afea</td>\n",
              "      <td>SOBOAFP12A8C131F36</td>\n",
              "      <td>7</td>\n",
              "      <td>Lucky (Album Version)</td>\n",
              "      <td>We Sing.  We Dance.  We Steal Things.</td>\n",
              "      <td>82eb8936-7bf6-4577-8320-a2639465206d</td>\n",
              "      <td>Jason Mraz &amp; Colbie Caillat</td>\n",
              "      <td>0.0</td>\n",
              "    </tr>\n",
              "  </tbody>\n",
              "</table>\n",
              "</div>"
            ],
            "text/plain": [
              "                                       user                song  listen_count  \\\n",
              "0  d6589314c0a9bcbca4fee0c93b14bc402363afea  SOADQPP12A67020C82            12   \n",
              "1  d6589314c0a9bcbca4fee0c93b14bc402363afea  SOAFTRR12AF72A8D4D             1   \n",
              "2  d6589314c0a9bcbca4fee0c93b14bc402363afea  SOANQFY12AB0183239             1   \n",
              "3  d6589314c0a9bcbca4fee0c93b14bc402363afea  SOAYATB12A6701FD50             1   \n",
              "4  d6589314c0a9bcbca4fee0c93b14bc402363afea  SOBOAFP12A8C131F36             7   \n",
              "\n",
              "                           title                                release  \\\n",
              "0               You And Me Jesus                   Tribute To Jake Hess   \n",
              "1  Harder Better Faster Stronger                              Discovery   \n",
              "2                       Uprising                               Uprising   \n",
              "3         Breakfast At Tiffany's                                   Home   \n",
              "4          Lucky (Album Version)  We Sing.  We Dance.  We Steal Things.   \n",
              "\n",
              "                            artist_mbid                  artist_name    year  \n",
              "0  d8881a78-e6c6-4cd7-bd43-1a6c4b8ef4ba                    Jake Hess  2004.0  \n",
              "1  056e4f3e-d505-4dad-8ec1-d04f521cbb56                    Daft Punk  2007.0  \n",
              "2  fd857293-5ab8-40de-b29e-55a69d4e4d0f                         Muse     0.0  \n",
              "3  ae3f6a8a-c465-4707-8667-8ce0172bc417          Deep Blue Something  1993.0  \n",
              "4  82eb8936-7bf6-4577-8320-a2639465206d  Jason Mraz & Colbie Caillat     0.0  "
            ]
          },
          "metadata": {
            "tags": []
          },
          "execution_count": 2
        }
      ]
    },
    {
      "metadata": {
        "id": "e7A02GgoW2i9",
        "colab_type": "code",
        "colab": {}
      },
      "cell_type": "code",
      "source": [
        "import sklearn"
      ],
      "execution_count": 0,
      "outputs": []
    },
    {
      "metadata": {
        "id": "nLd3JLEjW2jH",
        "colab_type": "code",
        "colab": {}
      },
      "cell_type": "code",
      "source": [
        "import Recommenders as Recommenders"
      ],
      "execution_count": 0,
      "outputs": []
    },
    {
      "metadata": {
        "id": "KAYErtguW2jQ",
        "colab_type": "code",
        "colab": {}
      },
      "cell_type": "code",
      "source": [
        "from sklearn.cross_validation import train_test_split"
      ],
      "execution_count": 0,
      "outputs": []
    },
    {
      "metadata": {
        "id": "F9-2w5UAW2jZ",
        "colab_type": "text"
      },
      "cell_type": "markdown",
      "source": [
        "## 1. Popularity based recommendations \n",
        "                                                                                    ## Simplest Recommendation Engine \n",
        "\n",
        "If some item is liked (or listened to) by a vast majority of User database, then it is a good idea to recommend that item to users who have not interacted with that item.\n",
        "So, we will try to find out which songs have been listened to by the users most number of times, so that will be our standard recommendation set for each user."
      ]
    },
    {
      "metadata": {
        "id": "S02QFD4OW2jc",
        "colab_type": "code",
        "colab": {}
      },
      "cell_type": "code",
      "source": [
        "triplet_dataset_sub_song_merged_set = triplet_dataset_sub_song_merged\n",
        "train_data, test_data = train_test_split(triplet_dataset_sub_song_merged_set, test_size=0.4, random_state=0)"
      ],
      "execution_count": 0,
      "outputs": []
    },
    {
      "metadata": {
        "id": "80TTB502W2jk",
        "colab_type": "code",
        "colab": {},
        "outputId": "7d1d35c2-5d76-4e93-c606-10289425e04e"
      },
      "cell_type": "code",
      "source": [
        "train_data.head()"
      ],
      "execution_count": 0,
      "outputs": [
        {
          "output_type": "execute_result",
          "data": {
            "text/html": [
              "<div>\n",
              "<table border=\"1\" class=\"dataframe\">\n",
              "  <thead>\n",
              "    <tr style=\"text-align: right;\">\n",
              "      <th></th>\n",
              "      <th>user</th>\n",
              "      <th>song</th>\n",
              "      <th>listen_count</th>\n",
              "      <th>title</th>\n",
              "      <th>release</th>\n",
              "      <th>artist_mbid</th>\n",
              "      <th>artist_name</th>\n",
              "      <th>year</th>\n",
              "    </tr>\n",
              "  </thead>\n",
              "  <tbody>\n",
              "    <tr>\n",
              "      <th>54517</th>\n",
              "      <td>7ac815e4eddf5f892fd06b55ef666e25fceb930c</td>\n",
              "      <td>SONQBUB12A6D4F8ED0</td>\n",
              "      <td>2</td>\n",
              "      <td>Angie (1993 Digital Remaster)</td>\n",
              "      <td>Jump Back - The Best Of The Rolling Stones_ '7...</td>\n",
              "      <td>b071f9fa-14b0-4217-8e97-eb41da73f598</td>\n",
              "      <td>The Rolling Stones</td>\n",
              "      <td>0.0</td>\n",
              "    </tr>\n",
              "    <tr>\n",
              "      <th>223603</th>\n",
              "      <td>d23fb44ab5693625b66717a7aa166de85f84cd55</td>\n",
              "      <td>SOKVUKL12A8C1357B5</td>\n",
              "      <td>1</td>\n",
              "      <td>Mula Noon Hanggang Ngayon</td>\n",
              "      <td>OPM Timeless Collection</td>\n",
              "      <td>67f4ab30-bfe1-483a-a5ae-c6e6067497b8</td>\n",
              "      <td>Lea Salonga</td>\n",
              "      <td>0.0</td>\n",
              "    </tr>\n",
              "    <tr>\n",
              "      <th>92635</th>\n",
              "      <td>686f2add4eb9a011fee804ee0e9b843333d33838</td>\n",
              "      <td>SOVUEEM12A8C135974</td>\n",
              "      <td>1</td>\n",
              "      <td>No Such Thing</td>\n",
              "      <td>Carry On</td>\n",
              "      <td>cbf9738d-8f81-4a92-bc64-ede09341652d</td>\n",
              "      <td>Chris Cornell</td>\n",
              "      <td>2007.0</td>\n",
              "    </tr>\n",
              "    <tr>\n",
              "      <th>157848</th>\n",
              "      <td>0345a2367c91563dbb46adcfa611dd066b9e3e08</td>\n",
              "      <td>SOSIDTC12A8C1383E1</td>\n",
              "      <td>2</td>\n",
              "      <td>Alanson_ Crooked River</td>\n",
              "      <td>Greetings From Michigan_ The Great Lake State</td>\n",
              "      <td>01d3c51b-9b98-418a-8d8e-37f6fab59d8c</td>\n",
              "      <td>Sufjan Stevens</td>\n",
              "      <td>0.0</td>\n",
              "    </tr>\n",
              "    <tr>\n",
              "      <th>251153</th>\n",
              "      <td>2f3e2b0ade854f990ae61833345b6381566544be</td>\n",
              "      <td>SOLXQEG12A67AE2285</td>\n",
              "      <td>3</td>\n",
              "      <td>Pushing Me Away (Album Version)</td>\n",
              "      <td>Hybrid Theory</td>\n",
              "      <td>f59c5520-5f46-4d2c-b2c4-822eabf53419</td>\n",
              "      <td>Linkin Park</td>\n",
              "      <td>2000.0</td>\n",
              "    </tr>\n",
              "  </tbody>\n",
              "</table>\n",
              "</div>"
            ],
            "text/plain": [
              "                                            user                song  \\\n",
              "54517   7ac815e4eddf5f892fd06b55ef666e25fceb930c  SONQBUB12A6D4F8ED0   \n",
              "223603  d23fb44ab5693625b66717a7aa166de85f84cd55  SOKVUKL12A8C1357B5   \n",
              "92635   686f2add4eb9a011fee804ee0e9b843333d33838  SOVUEEM12A8C135974   \n",
              "157848  0345a2367c91563dbb46adcfa611dd066b9e3e08  SOSIDTC12A8C1383E1   \n",
              "251153  2f3e2b0ade854f990ae61833345b6381566544be  SOLXQEG12A67AE2285   \n",
              "\n",
              "        listen_count                            title  \\\n",
              "54517              2    Angie (1993 Digital Remaster)   \n",
              "223603             1        Mula Noon Hanggang Ngayon   \n",
              "92635              1                    No Such Thing   \n",
              "157848             2           Alanson_ Crooked River   \n",
              "251153             3  Pushing Me Away (Album Version)   \n",
              "\n",
              "                                                  release  \\\n",
              "54517   Jump Back - The Best Of The Rolling Stones_ '7...   \n",
              "223603                            OPM Timeless Collection   \n",
              "92635                                            Carry On   \n",
              "157848      Greetings From Michigan_ The Great Lake State   \n",
              "251153                                      Hybrid Theory   \n",
              "\n",
              "                                 artist_mbid         artist_name    year  \n",
              "54517   b071f9fa-14b0-4217-8e97-eb41da73f598  The Rolling Stones     0.0  \n",
              "223603  67f4ab30-bfe1-483a-a5ae-c6e6067497b8         Lea Salonga     0.0  \n",
              "92635   cbf9738d-8f81-4a92-bc64-ede09341652d       Chris Cornell  2007.0  \n",
              "157848  01d3c51b-9b98-418a-8d8e-37f6fab59d8c      Sufjan Stevens     0.0  \n",
              "251153  f59c5520-5f46-4d2c-b2c4-822eabf53419         Linkin Park  2000.0  "
            ]
          },
          "metadata": {
            "tags": []
          },
          "execution_count": 9
        }
      ]
    },
    {
      "metadata": {
        "id": "zeGyv5BQW2jx",
        "colab_type": "code",
        "colab": {}
      },
      "cell_type": "code",
      "source": [
        "\n",
        "def  create_popularity_recommendation(train_data, user_id, item_id):\n",
        "    #Get a count of user_ids for each unique song as recommendation score\n",
        "    train_data_grouped = train_data.groupby([item_id]).agg({user_id: 'count'}).reset_index()\n",
        "    train_data_grouped.rename(columns = {user_id: 'score'},inplace=True)\n",
        "    \n",
        "    #Sort the songs based upon recommendation score\n",
        "    train_data_sort = train_data_grouped.sort_values(['score', item_id], ascending = [0,1])\n",
        "    \n",
        "    #Generate a recommendation rank based upon score\n",
        "    train_data_sort['Rank'] = train_data_sort['score'].rank(ascending=0, method='first')\n",
        "        \n",
        "    #Get the top 10 recommendations\n",
        "    popularity_recommendations = train_data_sort.head(20)\n",
        "    return popularity_recommendations"
      ],
      "execution_count": 0,
      "outputs": []
    },
    {
      "metadata": {
        "id": "1Rp3AxGIW2j8",
        "colab_type": "text"
      },
      "cell_type": "markdown",
      "source": [
        "### Generate top 20 Recommendations to each of our Users:"
      ]
    },
    {
      "metadata": {
        "id": "Z3B47YajW2j_",
        "colab_type": "code",
        "colab": {},
        "outputId": "d2abce52-48b8-498a-f72d-3f48f1c5aeae"
      },
      "cell_type": "code",
      "source": [
        "recommendations  = create_popularity_recommendation(triplet_dataset_sub_song_merged,'user','title')\n",
        "recommendations"
      ],
      "execution_count": 0,
      "outputs": [
        {
          "output_type": "execute_result",
          "data": {
            "text/html": [
              "<div>\n",
              "<table border=\"1\" class=\"dataframe\">\n",
              "  <thead>\n",
              "    <tr style=\"text-align: right;\">\n",
              "      <th></th>\n",
              "      <th>title</th>\n",
              "      <th>score</th>\n",
              "      <th>Rank</th>\n",
              "    </tr>\n",
              "  </thead>\n",
              "  <tbody>\n",
              "    <tr>\n",
              "      <th>18773</th>\n",
              "      <td>Sehr kosmisch</td>\n",
              "      <td>448</td>\n",
              "      <td>1.0</td>\n",
              "    </tr>\n",
              "    <tr>\n",
              "      <th>5536</th>\n",
              "      <td>Dog Days Are Over (Radio Edit)</td>\n",
              "      <td>440</td>\n",
              "      <td>2.0</td>\n",
              "    </tr>\n",
              "    <tr>\n",
              "      <th>24036</th>\n",
              "      <td>Undo</td>\n",
              "      <td>382</td>\n",
              "      <td>3.0</td>\n",
              "    </tr>\n",
              "    <tr>\n",
              "      <th>18737</th>\n",
              "      <td>Secrets</td>\n",
              "      <td>370</td>\n",
              "      <td>4.0</td>\n",
              "    </tr>\n",
              "    <tr>\n",
              "      <th>26175</th>\n",
              "      <td>You're The One</td>\n",
              "      <td>370</td>\n",
              "      <td>5.0</td>\n",
              "    </tr>\n",
              "    <tr>\n",
              "      <th>17871</th>\n",
              "      <td>Revelry</td>\n",
              "      <td>342</td>\n",
              "      <td>6.0</td>\n",
              "    </tr>\n",
              "    <tr>\n",
              "      <th>9511</th>\n",
              "      <td>Horn Concerto No. 4 in E flat K495: II. Romanc...</td>\n",
              "      <td>327</td>\n",
              "      <td>7.0</td>\n",
              "    </tr>\n",
              "    <tr>\n",
              "      <th>23295</th>\n",
              "      <td>Tive Sim</td>\n",
              "      <td>315</td>\n",
              "      <td>8.0</td>\n",
              "    </tr>\n",
              "    <tr>\n",
              "      <th>24176</th>\n",
              "      <td>Use Somebody</td>\n",
              "      <td>313</td>\n",
              "      <td>9.0</td>\n",
              "    </tr>\n",
              "    <tr>\n",
              "      <th>7208</th>\n",
              "      <td>Fireflies</td>\n",
              "      <td>301</td>\n",
              "      <td>10.0</td>\n",
              "    </tr>\n",
              "    <tr>\n",
              "      <th>9243</th>\n",
              "      <td>Hey_ Soul Sister</td>\n",
              "      <td>301</td>\n",
              "      <td>11.0</td>\n",
              "    </tr>\n",
              "    <tr>\n",
              "      <th>3485</th>\n",
              "      <td>Canada</td>\n",
              "      <td>300</td>\n",
              "      <td>12.0</td>\n",
              "    </tr>\n",
              "    <tr>\n",
              "      <th>9436</th>\n",
              "      <td>Home</td>\n",
              "      <td>273</td>\n",
              "      <td>13.0</td>\n",
              "    </tr>\n",
              "    <tr>\n",
              "      <th>22503</th>\n",
              "      <td>The Scientist</td>\n",
              "      <td>262</td>\n",
              "      <td>14.0</td>\n",
              "    </tr>\n",
              "    <tr>\n",
              "      <th>5934</th>\n",
              "      <td>Drop The World</td>\n",
              "      <td>257</td>\n",
              "      <td>15.0</td>\n",
              "    </tr>\n",
              "    <tr>\n",
              "      <th>3164</th>\n",
              "      <td>Bulletproof</td>\n",
              "      <td>255</td>\n",
              "      <td>16.0</td>\n",
              "    </tr>\n",
              "    <tr>\n",
              "      <th>11618</th>\n",
              "      <td>Just Dance</td>\n",
              "      <td>255</td>\n",
              "      <td>17.0</td>\n",
              "    </tr>\n",
              "    <tr>\n",
              "      <th>17329</th>\n",
              "      <td>Pursuit Of Happiness (nightmare)</td>\n",
              "      <td>255</td>\n",
              "      <td>18.0</td>\n",
              "    </tr>\n",
              "    <tr>\n",
              "      <th>15741</th>\n",
              "      <td>OMG</td>\n",
              "      <td>254</td>\n",
              "      <td>19.0</td>\n",
              "    </tr>\n",
              "    <tr>\n",
              "      <th>4019</th>\n",
              "      <td>Clocks</td>\n",
              "      <td>244</td>\n",
              "      <td>20.0</td>\n",
              "    </tr>\n",
              "  </tbody>\n",
              "</table>\n",
              "</div>"
            ],
            "text/plain": [
              "                                                   title  score  Rank\n",
              "18773                                      Sehr kosmisch    448   1.0\n",
              "5536                      Dog Days Are Over (Radio Edit)    440   2.0\n",
              "24036                                               Undo    382   3.0\n",
              "18737                                            Secrets    370   4.0\n",
              "26175                                     You're The One    370   5.0\n",
              "17871                                            Revelry    342   6.0\n",
              "9511   Horn Concerto No. 4 in E flat K495: II. Romanc...    327   7.0\n",
              "23295                                           Tive Sim    315   8.0\n",
              "24176                                       Use Somebody    313   9.0\n",
              "7208                                           Fireflies    301  10.0\n",
              "9243                                    Hey_ Soul Sister    301  11.0\n",
              "3485                                              Canada    300  12.0\n",
              "9436                                                Home    273  13.0\n",
              "22503                                      The Scientist    262  14.0\n",
              "5934                                      Drop The World    257  15.0\n",
              "3164                                         Bulletproof    255  16.0\n",
              "11618                                         Just Dance    255  17.0\n",
              "17329                   Pursuit Of Happiness (nightmare)    255  18.0\n",
              "15741                                                OMG    254  19.0\n",
              "4019                                              Clocks    244  20.0"
            ]
          },
          "metadata": {
            "tags": []
          },
          "execution_count": 11
        }
      ]
    },
    {
      "metadata": {
        "id": "qZCz2LhrW2kO",
        "colab_type": "text"
      },
      "cell_type": "markdown",
      "source": [
        "## 2. Item similarity based recommendations"
      ]
    },
    {
      "metadata": {
        "id": "msYeeL_ZW2kR",
        "colab_type": "code",
        "colab": {}
      },
      "cell_type": "code",
      "source": [
        "song_count_df = pd.read_csv(\"song_count_df.csv\")\n",
        "play_count_df = pd.read_csv(\"play_count_df.csv\")"
      ],
      "execution_count": 0,
      "outputs": []
    },
    {
      "metadata": {
        "id": "-xGmA-F5W2kZ",
        "colab_type": "code",
        "colab": {}
      },
      "cell_type": "code",
      "source": [
        "play_count_subset = play_count_df.head(n=100000)\n",
        "user_subset = list(play_count_subset.user)"
      ],
      "execution_count": 0,
      "outputs": []
    },
    {
      "metadata": {
        "id": "buLyTy36W2ki",
        "colab_type": "code",
        "colab": {}
      },
      "cell_type": "code",
      "source": [
        "song_count_subset = song_count_df.head(n=5000)\n",
        "user_subset = list(play_count_subset.user)\n",
        "song_subset = list(song_count_subset.song)\n",
        "triplet_dataset_sub_song_merged_sub = triplet_dataset_sub_song_merged[triplet_dataset_sub_song_merged.song.isin(song_subset)]"
      ],
      "execution_count": 0,
      "outputs": []
    },
    {
      "metadata": {
        "id": "KlQnY2obW2kx",
        "colab_type": "code",
        "colab": {},
        "outputId": "9a58d4ea-c7dc-43d8-a1e0-7a00f22078a6"
      },
      "cell_type": "code",
      "source": [
        "triplet_dataset_sub_song_merged_sub.head()"
      ],
      "execution_count": 0,
      "outputs": [
        {
          "output_type": "execute_result",
          "data": {
            "text/html": [
              "<div>\n",
              "<table border=\"1\" class=\"dataframe\">\n",
              "  <thead>\n",
              "    <tr style=\"text-align: right;\">\n",
              "      <th></th>\n",
              "      <th>user</th>\n",
              "      <th>song</th>\n",
              "      <th>listen_count</th>\n",
              "      <th>title</th>\n",
              "      <th>release</th>\n",
              "      <th>artist_mbid</th>\n",
              "      <th>artist_name</th>\n",
              "      <th>year</th>\n",
              "    </tr>\n",
              "  </thead>\n",
              "  <tbody>\n",
              "    <tr>\n",
              "      <th>0</th>\n",
              "      <td>d6589314c0a9bcbca4fee0c93b14bc402363afea</td>\n",
              "      <td>SOADQPP12A67020C82</td>\n",
              "      <td>12</td>\n",
              "      <td>You And Me Jesus</td>\n",
              "      <td>Tribute To Jake Hess</td>\n",
              "      <td>d8881a78-e6c6-4cd7-bd43-1a6c4b8ef4ba</td>\n",
              "      <td>Jake Hess</td>\n",
              "      <td>2004.0</td>\n",
              "    </tr>\n",
              "    <tr>\n",
              "      <th>1</th>\n",
              "      <td>d6589314c0a9bcbca4fee0c93b14bc402363afea</td>\n",
              "      <td>SOAFTRR12AF72A8D4D</td>\n",
              "      <td>1</td>\n",
              "      <td>Harder Better Faster Stronger</td>\n",
              "      <td>Discovery</td>\n",
              "      <td>056e4f3e-d505-4dad-8ec1-d04f521cbb56</td>\n",
              "      <td>Daft Punk</td>\n",
              "      <td>2007.0</td>\n",
              "    </tr>\n",
              "    <tr>\n",
              "      <th>2</th>\n",
              "      <td>d6589314c0a9bcbca4fee0c93b14bc402363afea</td>\n",
              "      <td>SOANQFY12AB0183239</td>\n",
              "      <td>1</td>\n",
              "      <td>Uprising</td>\n",
              "      <td>Uprising</td>\n",
              "      <td>fd857293-5ab8-40de-b29e-55a69d4e4d0f</td>\n",
              "      <td>Muse</td>\n",
              "      <td>0.0</td>\n",
              "    </tr>\n",
              "    <tr>\n",
              "      <th>3</th>\n",
              "      <td>d6589314c0a9bcbca4fee0c93b14bc402363afea</td>\n",
              "      <td>SOAYATB12A6701FD50</td>\n",
              "      <td>1</td>\n",
              "      <td>Breakfast At Tiffany's</td>\n",
              "      <td>Home</td>\n",
              "      <td>ae3f6a8a-c465-4707-8667-8ce0172bc417</td>\n",
              "      <td>Deep Blue Something</td>\n",
              "      <td>1993.0</td>\n",
              "    </tr>\n",
              "    <tr>\n",
              "      <th>4</th>\n",
              "      <td>d6589314c0a9bcbca4fee0c93b14bc402363afea</td>\n",
              "      <td>SOBOAFP12A8C131F36</td>\n",
              "      <td>7</td>\n",
              "      <td>Lucky (Album Version)</td>\n",
              "      <td>We Sing.  We Dance.  We Steal Things.</td>\n",
              "      <td>82eb8936-7bf6-4577-8320-a2639465206d</td>\n",
              "      <td>Jason Mraz &amp; Colbie Caillat</td>\n",
              "      <td>0.0</td>\n",
              "    </tr>\n",
              "  </tbody>\n",
              "</table>\n",
              "</div>"
            ],
            "text/plain": [
              "                                       user                song  listen_count  \\\n",
              "0  d6589314c0a9bcbca4fee0c93b14bc402363afea  SOADQPP12A67020C82            12   \n",
              "1  d6589314c0a9bcbca4fee0c93b14bc402363afea  SOAFTRR12AF72A8D4D             1   \n",
              "2  d6589314c0a9bcbca4fee0c93b14bc402363afea  SOANQFY12AB0183239             1   \n",
              "3  d6589314c0a9bcbca4fee0c93b14bc402363afea  SOAYATB12A6701FD50             1   \n",
              "4  d6589314c0a9bcbca4fee0c93b14bc402363afea  SOBOAFP12A8C131F36             7   \n",
              "\n",
              "                           title                                release  \\\n",
              "0               You And Me Jesus                   Tribute To Jake Hess   \n",
              "1  Harder Better Faster Stronger                              Discovery   \n",
              "2                       Uprising                               Uprising   \n",
              "3         Breakfast At Tiffany's                                   Home   \n",
              "4          Lucky (Album Version)  We Sing.  We Dance.  We Steal Things.   \n",
              "\n",
              "                            artist_mbid                  artist_name    year  \n",
              "0  d8881a78-e6c6-4cd7-bd43-1a6c4b8ef4ba                    Jake Hess  2004.0  \n",
              "1  056e4f3e-d505-4dad-8ec1-d04f521cbb56                    Daft Punk  2007.0  \n",
              "2  fd857293-5ab8-40de-b29e-55a69d4e4d0f                         Muse     0.0  \n",
              "3  ae3f6a8a-c465-4707-8667-8ce0172bc417          Deep Blue Something  1993.0  \n",
              "4  82eb8936-7bf6-4577-8320-a2639465206d  Jason Mraz & Colbie Caillat     0.0  "
            ]
          },
          "metadata": {
            "tags": []
          },
          "execution_count": 18
        }
      ]
    },
    {
      "metadata": {
        "id": "srCVFtqCW2lB",
        "colab_type": "code",
        "colab": {},
        "outputId": "21edc459-b511-4b02-c4ac-de1391341c5f"
      },
      "cell_type": "code",
      "source": [
        "train_data, test_data = train_test_split(triplet_dataset_sub_song_merged_sub, test_size = 0.30, random_state=0)\n",
        "is_model = Recommenders.item_similarity_recommender_py()\n",
        "is_model.create(train_data, 'user', 'title')\n",
        "user_id = list(train_data.user)[7]\n",
        "user_items = is_model.get_user_items(user_id)\n",
        "\n",
        "#Recommend songs for the user using personalized model\n",
        "is_model.recommend(user_id)"
      ],
      "execution_count": 0,
      "outputs": [
        {
          "output_type": "stream",
          "text": [
            "No. of unique songs for the user: 79\n",
            "no. of unique songs in the training set: 4864\n",
            "Non zero values in cooccurence_matrix :101497\n"
          ],
          "name": "stdout"
        },
        {
          "output_type": "execute_result",
          "data": {
            "text/html": [
              "<div>\n",
              "<table border=\"1\" class=\"dataframe\">\n",
              "  <thead>\n",
              "    <tr style=\"text-align: right;\">\n",
              "      <th></th>\n",
              "      <th>user_id</th>\n",
              "      <th>song</th>\n",
              "      <th>score</th>\n",
              "      <th>rank</th>\n",
              "    </tr>\n",
              "  </thead>\n",
              "  <tbody>\n",
              "    <tr>\n",
              "      <th>0</th>\n",
              "      <td>9f421913b988809407f87de9dc6377637abdf4e7</td>\n",
              "      <td>Intervention</td>\n",
              "      <td>0.040527</td>\n",
              "      <td>1.0</td>\n",
              "    </tr>\n",
              "    <tr>\n",
              "      <th>1</th>\n",
              "      <td>9f421913b988809407f87de9dc6377637abdf4e7</td>\n",
              "      <td>A-Punk (Album)</td>\n",
              "      <td>0.036398</td>\n",
              "      <td>2.0</td>\n",
              "    </tr>\n",
              "    <tr>\n",
              "      <th>2</th>\n",
              "      <td>9f421913b988809407f87de9dc6377637abdf4e7</td>\n",
              "      <td>Crown Of Love</td>\n",
              "      <td>0.035368</td>\n",
              "      <td>3.0</td>\n",
              "    </tr>\n",
              "    <tr>\n",
              "      <th>3</th>\n",
              "      <td>9f421913b988809407f87de9dc6377637abdf4e7</td>\n",
              "      <td>Horchata</td>\n",
              "      <td>0.034175</td>\n",
              "      <td>4.0</td>\n",
              "    </tr>\n",
              "    <tr>\n",
              "      <th>4</th>\n",
              "      <td>9f421913b988809407f87de9dc6377637abdf4e7</td>\n",
              "      <td>Neon Bible</td>\n",
              "      <td>0.033561</td>\n",
              "      <td>5.0</td>\n",
              "    </tr>\n",
              "    <tr>\n",
              "      <th>5</th>\n",
              "      <td>9f421913b988809407f87de9dc6377637abdf4e7</td>\n",
              "      <td>They Might Follow You</td>\n",
              "      <td>0.033173</td>\n",
              "      <td>6.0</td>\n",
              "    </tr>\n",
              "    <tr>\n",
              "      <th>6</th>\n",
              "      <td>9f421913b988809407f87de9dc6377637abdf4e7</td>\n",
              "      <td>Mia</td>\n",
              "      <td>0.032267</td>\n",
              "      <td>7.0</td>\n",
              "    </tr>\n",
              "    <tr>\n",
              "      <th>7</th>\n",
              "      <td>9f421913b988809407f87de9dc6377637abdf4e7</td>\n",
              "      <td>The Kids Don\u0019t Stand A Chance (Album)</td>\n",
              "      <td>0.031778</td>\n",
              "      <td>8.0</td>\n",
              "    </tr>\n",
              "    <tr>\n",
              "      <th>8</th>\n",
              "      <td>9f421913b988809407f87de9dc6377637abdf4e7</td>\n",
              "      <td>White Sky</td>\n",
              "      <td>0.030440</td>\n",
              "      <td>9.0</td>\n",
              "    </tr>\n",
              "    <tr>\n",
              "      <th>9</th>\n",
              "      <td>9f421913b988809407f87de9dc6377637abdf4e7</td>\n",
              "      <td>Kiss With A Fist</td>\n",
              "      <td>0.030204</td>\n",
              "      <td>10.0</td>\n",
              "    </tr>\n",
              "  </tbody>\n",
              "</table>\n",
              "</div>"
            ],
            "text/plain": [
              "                                    user_id  \\\n",
              "0  9f421913b988809407f87de9dc6377637abdf4e7   \n",
              "1  9f421913b988809407f87de9dc6377637abdf4e7   \n",
              "2  9f421913b988809407f87de9dc6377637abdf4e7   \n",
              "3  9f421913b988809407f87de9dc6377637abdf4e7   \n",
              "4  9f421913b988809407f87de9dc6377637abdf4e7   \n",
              "5  9f421913b988809407f87de9dc6377637abdf4e7   \n",
              "6  9f421913b988809407f87de9dc6377637abdf4e7   \n",
              "7  9f421913b988809407f87de9dc6377637abdf4e7   \n",
              "8  9f421913b988809407f87de9dc6377637abdf4e7   \n",
              "9  9f421913b988809407f87de9dc6377637abdf4e7   \n",
              "\n",
              "                                    song     score  rank  \n",
              "0                           Intervention  0.040527   1.0  \n",
              "1                         A-Punk (Album)  0.036398   2.0  \n",
              "2                          Crown Of Love  0.035368   3.0  \n",
              "3                               Horchata  0.034175   4.0  \n",
              "4                             Neon Bible  0.033561   5.0  \n",
              "5                  They Might Follow You  0.033173   6.0  \n",
              "6                                    Mia  0.032267   7.0  \n",
              "7  The Kids Don\u0019t Stand A Chance (Album)  0.031778   8.0  \n",
              "8                              White Sky  0.030440   9.0  \n",
              "9                       Kiss With A Fist  0.030204  10.0  "
            ]
          },
          "metadata": {
            "tags": []
          },
          "execution_count": 19
        }
      ]
    },
    {
      "metadata": {
        "id": "ybFkdU2OW2lO",
        "colab_type": "text"
      },
      "cell_type": "markdown",
      "source": [
        "## 3. Matrix factorization based recommendations"
      ]
    },
    {
      "metadata": {
        "id": "pSH0K5NtW2lP",
        "colab_type": "code",
        "colab": {}
      },
      "cell_type": "code",
      "source": [
        "triplet_dataset_sub_song_merged_sum_df = triplet_dataset_sub_song_merged[['user','listen_count']].groupby('user').sum().reset_index()\n",
        "triplet_dataset_sub_song_merged_sum_df.rename(columns={'listen_count':'total_listen_count'},inplace=True)\n",
        "triplet_dataset_sub_song_merged = pd.merge(triplet_dataset_sub_song_merged,triplet_dataset_sub_song_merged_sum_df)\n",
        "triplet_dataset_sub_song_merged['fractional_play_count'] = triplet_dataset_sub_song_merged['listen_count']/triplet_dataset_sub_song_merged['total_listen_count']"
      ],
      "execution_count": 0,
      "outputs": []
    },
    {
      "metadata": {
        "id": "0lT8g5P1W2lZ",
        "colab_type": "code",
        "colab": {},
        "outputId": "e21094c0-c4b2-4756-fed5-44b2621d6706"
      },
      "cell_type": "code",
      "source": [
        "triplet_dataset_sub_song_merged[triplet_dataset_sub_song_merged.user =='d6589314c0a9bcbca4fee0c93b14bc402363afea'][['user','song','listen_count','fractional_play_count']].head()"
      ],
      "execution_count": 0,
      "outputs": [
        {
          "output_type": "execute_result",
          "data": {
            "text/html": [
              "<div>\n",
              "<table border=\"1\" class=\"dataframe\">\n",
              "  <thead>\n",
              "    <tr style=\"text-align: right;\">\n",
              "      <th></th>\n",
              "      <th>user</th>\n",
              "      <th>song</th>\n",
              "      <th>listen_count</th>\n",
              "      <th>fractional_play_count</th>\n",
              "    </tr>\n",
              "  </thead>\n",
              "  <tbody>\n",
              "    <tr>\n",
              "      <th>0</th>\n",
              "      <td>d6589314c0a9bcbca4fee0c93b14bc402363afea</td>\n",
              "      <td>SOADQPP12A67020C82</td>\n",
              "      <td>12</td>\n",
              "      <td>0.036474</td>\n",
              "    </tr>\n",
              "    <tr>\n",
              "      <th>1</th>\n",
              "      <td>d6589314c0a9bcbca4fee0c93b14bc402363afea</td>\n",
              "      <td>SOAFTRR12AF72A8D4D</td>\n",
              "      <td>1</td>\n",
              "      <td>0.003040</td>\n",
              "    </tr>\n",
              "    <tr>\n",
              "      <th>2</th>\n",
              "      <td>d6589314c0a9bcbca4fee0c93b14bc402363afea</td>\n",
              "      <td>SOANQFY12AB0183239</td>\n",
              "      <td>1</td>\n",
              "      <td>0.003040</td>\n",
              "    </tr>\n",
              "    <tr>\n",
              "      <th>3</th>\n",
              "      <td>d6589314c0a9bcbca4fee0c93b14bc402363afea</td>\n",
              "      <td>SOAYATB12A6701FD50</td>\n",
              "      <td>1</td>\n",
              "      <td>0.003040</td>\n",
              "    </tr>\n",
              "    <tr>\n",
              "      <th>4</th>\n",
              "      <td>d6589314c0a9bcbca4fee0c93b14bc402363afea</td>\n",
              "      <td>SOBOAFP12A8C131F36</td>\n",
              "      <td>7</td>\n",
              "      <td>0.021277</td>\n",
              "    </tr>\n",
              "  </tbody>\n",
              "</table>\n",
              "</div>"
            ],
            "text/plain": [
              "                                       user                song  listen_count  \\\n",
              "0  d6589314c0a9bcbca4fee0c93b14bc402363afea  SOADQPP12A67020C82            12   \n",
              "1  d6589314c0a9bcbca4fee0c93b14bc402363afea  SOAFTRR12AF72A8D4D             1   \n",
              "2  d6589314c0a9bcbca4fee0c93b14bc402363afea  SOANQFY12AB0183239             1   \n",
              "3  d6589314c0a9bcbca4fee0c93b14bc402363afea  SOAYATB12A6701FD50             1   \n",
              "4  d6589314c0a9bcbca4fee0c93b14bc402363afea  SOBOAFP12A8C131F36             7   \n",
              "\n",
              "   fractional_play_count  \n",
              "0               0.036474  \n",
              "1               0.003040  \n",
              "2               0.003040  \n",
              "3               0.003040  \n",
              "4               0.021277  "
            ]
          },
          "metadata": {
            "tags": []
          },
          "execution_count": 21
        }
      ]
    },
    {
      "metadata": {
        "id": "LIMHi1gDW2lo",
        "colab_type": "code",
        "colab": {}
      },
      "cell_type": "code",
      "source": [
        "from scipy.sparse import coo_matrix\n",
        "\n",
        "small_set = triplet_dataset_sub_song_merged\n",
        "user_codes = small_set.user.drop_duplicates().reset_index()\n",
        "song_codes = small_set.song.drop_duplicates().reset_index()\n",
        "user_codes.rename(columns={'index':'user_index'}, inplace=True)\n",
        "song_codes.rename(columns={'index':'song_index'}, inplace=True)\n",
        "song_codes['so_index_value'] = list(song_codes.index)\n",
        "user_codes['us_index_value'] = list(user_codes.index)\n",
        "small_set = pd.merge(small_set,song_codes,how='left')\n",
        "small_set = pd.merge(small_set,user_codes,how='left')\n",
        "mat_candidate = small_set[['us_index_value','so_index_value','fractional_play_count']]\n",
        "data_array = mat_candidate.fractional_play_count.values\n",
        "row_array = mat_candidate.us_index_value.values\n",
        "col_array = mat_candidate.so_index_value.values\n",
        "\n",
        "data_sparse = coo_matrix((data_array, (row_array, col_array)),dtype=float)"
      ],
      "execution_count": 0,
      "outputs": []
    },
    {
      "metadata": {
        "id": "t8R3cgmIW2lz",
        "colab_type": "code",
        "colab": {},
        "outputId": "a7caa37d-850b-49a3-a19c-d76f7e28ab05"
      },
      "cell_type": "code",
      "source": [
        "\n",
        "data_sparse"
      ],
      "execution_count": 0,
      "outputs": [
        {
          "output_type": "execute_result",
          "data": {
            "text/plain": [
              "<2480x28674 sparse matrix of type '<class 'numpy.float64'>'\n",
              "\twith 264437 stored elements in COOrdinate format>"
            ]
          },
          "metadata": {
            "tags": []
          },
          "execution_count": 23
        }
      ]
    },
    {
      "metadata": {
        "id": "vEG8t3FMW2l_",
        "colab_type": "code",
        "colab": {},
        "outputId": "297883be-18c0-4044-d9af-9cdbcfe8a7e6"
      },
      "cell_type": "code",
      "source": [
        "user_codes[user_codes.user =='9f421913b988809407f87de9dc6377637abdf4e7']"
      ],
      "execution_count": 0,
      "outputs": [
        {
          "output_type": "execute_result",
          "data": {
            "text/html": [
              "<div>\n",
              "<table border=\"1\" class=\"dataframe\">\n",
              "  <thead>\n",
              "    <tr style=\"text-align: right;\">\n",
              "      <th></th>\n",
              "      <th>user_index</th>\n",
              "      <th>user</th>\n",
              "      <th>us_index_value</th>\n",
              "    </tr>\n",
              "  </thead>\n",
              "  <tbody>\n",
              "    <tr>\n",
              "      <th>1886</th>\n",
              "      <td>202831</td>\n",
              "      <td>9f421913b988809407f87de9dc6377637abdf4e7</td>\n",
              "      <td>1886</td>\n",
              "    </tr>\n",
              "  </tbody>\n",
              "</table>\n",
              "</div>"
            ],
            "text/plain": [
              "      user_index                                      user  us_index_value\n",
              "1886      202831  9f421913b988809407f87de9dc6377637abdf4e7            1886"
            ]
          },
          "metadata": {
            "tags": []
          },
          "execution_count": 26
        }
      ]
    },
    {
      "metadata": {
        "id": "3L-PRyuyW2mS",
        "colab_type": "code",
        "colab": {}
      },
      "cell_type": "code",
      "source": [
        "import math as mt\n",
        "from scipy.sparse.linalg import * #used for matrix multiplication\n",
        "from scipy.sparse.linalg import svds\n",
        "from scipy.sparse import csc_matrix"
      ],
      "execution_count": 0,
      "outputs": []
    },
    {
      "metadata": {
        "id": "kqnX49OQW2mb",
        "colab_type": "code",
        "colab": {}
      },
      "cell_type": "code",
      "source": [
        "def compute_svd(urm, K):\n",
        "    U, s, Vt = svds(urm, K)\n",
        "\n",
        "    dim = (len(s), len(s))\n",
        "    S = np.zeros(dim, dtype=np.float32)\n",
        "    for i in range(0, len(s)):\n",
        "        S[i,i] = mt.sqrt(s[i])\n",
        "\n",
        "    U = csc_matrix(U, dtype=np.float32)\n",
        "    S = csc_matrix(S, dtype=np.float32)\n",
        "    Vt = csc_matrix(Vt, dtype=np.float32)\n",
        "    \n",
        "    return U, S, Vt\n",
        "\n",
        "def compute_estimated_matrix(urm, U, S, Vt, uTest, K, test):\n",
        "    rightTerm = S*Vt \n",
        "    max_recommendation = 250\n",
        "    estimatedRatings = np.zeros(shape=(MAX_UID, MAX_PID), dtype=np.float16)\n",
        "    recomendRatings = np.zeros(shape=(MAX_UID,max_recommendation ), dtype=np.float16)\n",
        "    for userTest in uTest:\n",
        "        prod = U[userTest, :]*rightTerm\n",
        "        estimatedRatings[userTest, :] = prod.todense()\n",
        "        recomendRatings[userTest, :] = (-estimatedRatings[userTest, :]).argsort()[:max_recommendation]\n",
        "    return recomendRatings"
      ],
      "execution_count": 0,
      "outputs": []
    },
    {
      "metadata": {
        "id": "kXKyhM54W2mj",
        "colab_type": "code",
        "colab": {}
      },
      "cell_type": "code",
      "source": [
        "import numpy as np\n",
        "K=2479\n",
        "urm = data_sparse\n",
        "MAX_PID = urm.shape[1]\n",
        "MAX_UID = urm.shape[0]\n",
        "\n",
        "U, S, Vt = compute_svd(urm, K)"
      ],
      "execution_count": 0,
      "outputs": []
    },
    {
      "metadata": {
        "id": "TDyw1talW2my",
        "colab_type": "code",
        "colab": {}
      },
      "cell_type": "code",
      "source": [
        "uTest = [4,5,6,7,8,873,23]\n",
        "\n",
        "uTest_recommended_items = compute_estimated_matrix(urm, U, S, Vt, uTest, K, True)"
      ],
      "execution_count": 0,
      "outputs": []
    },
    {
      "metadata": {
        "id": "eSaiPcCOW2m5",
        "colab_type": "code",
        "colab": {},
        "outputId": "4db06940-d31b-4adf-9969-dfe0200943a9"
      },
      "cell_type": "code",
      "source": [
        "for user in uTest:\n",
        "    print(\"Recommendation for user with user id {}\". format(user))\n",
        "    rank_value = 1\n",
        "    for i in uTest_recommended_items[user,0:10]:\n",
        "        song_details = small_set[small_set.so_index_value == i].drop_duplicates('so_index_value')[['title','artist_name']]\n",
        "        print(\"The number {} recommended song is {} BY {}\".format(rank_value, list(song_details['title'])[0],list(song_details['artist_name'])[0]))\n",
        "        rank_value+=1"
      ],
      "execution_count": 0,
      "outputs": [
        {
          "output_type": "stream",
          "text": [
            "Recommendation for user with user id 4\n",
            "The number 1 recommended song is Relax BY Frankie Goes To Hollywood\n",
            "The number 2 recommended song is Dress Me Like a Clown BY Margot & The Nuclear So And So's\n",
            "The number 3 recommended song is Volvere BY Corazones Estrangulados\n",
            "The number 4 recommended song is Picture BY Sheryl Crow\n",
            "The number 5 recommended song is Tennessee (Pirate Radio Mix) BY ARRESTED DEVELOPMENT\n",
            "The number 6 recommended song is Shine On (Album Version) BY NEEDTOBREATHE\n",
            "The number 7 recommended song is Gone Going BY Black Eyed Peas\n",
            "The number 8 recommended song is Plaisir d'amour BY Charlotte Church\n",
            "The number 9 recommended song is Haley (Album Version) BY NEEDTOBREATHE\n",
            "The number 10 recommended song is If I Could BY Jack Johnson\n",
            "Recommendation for user with user id 5\n",
            "The number 1 recommended song is Fascination BY Alphabeat\n",
            "The number 2 recommended song is Boy Who Stopped The World_ The  (Lackluster Album Version) BY Aaron Sprinkle\n",
            "The number 3 recommended song is All Men Are Liars BY Nick Lowe\n",
            "The number 4 recommended song is Burden In My Hand BY Soundgarden\n",
            "The number 5 recommended song is Middle Of Nowhere (Album Version) BY Hot Hot Heat\n",
            "The number 6 recommended song is Only One (Live) (Sessions@AOL) BY Yellowcard\n",
            "The number 7 recommended song is Secret Love BY Mariah Carey\n",
            "The number 8 recommended song is Natural's Not In It BY Gang Of Four\n",
            "The number 9 recommended song is White Heat BY John Waite\n",
            "The number 10 recommended song is Nitpickin' BY Danny Gatton\n",
            "Recommendation for user with user id 6\n",
            "The number 1 recommended song is Right Now (Cover Version) BY Across The Universe\n",
            "The number 2 recommended song is Gravity BY Sara Bareilles\n",
            "The number 3 recommended song is A Moment Like This BY Leona Lewis\n",
            "The number 4 recommended song is Take Your Mama BY Scissor Sisters\n",
            "The number 5 recommended song is Whoever She Is BY The Maine\n",
            "The number 6 recommended song is Love Song BY Sara Bareilles\n",
            "The number 7 recommended song is I'd Rather Be With You BY Joshua Radin\n",
            "The number 8 recommended song is Closer To Love BY Mat Kearney\n",
            "The number 9 recommended song is I Never Told You BY Colbie Caillat\n",
            "The number 10 recommended song is Far Away (Album Version) BY Nickelback\n",
            "Recommendation for user with user id 7\n",
            "The number 1 recommended song is As time breaks off BY Delorean\n",
            "The number 2 recommended song is The Cold_ The Dark & The Silence (Album) BY Sea Wolf\n",
            "The number 3 recommended song is Cosmic Dancer BY T. Rex\n",
            "The number 4 recommended song is Xehasmeni Melodia BY Onar\n",
            "The number 5 recommended song is Song for Myla Goldberg BY The Decemberists\n",
            "The number 6 recommended song is To Build A Home BY The Cinematic Orchestra\n",
            "The number 7 recommended song is Talk Show Host BY Radiohead\n",
            "The number 8 recommended song is The greatest light is the greatest shade BY The Joy Formidable\n",
            "The number 9 recommended song is I Stand Corrected (Album) BY Vampire Weekend\n",
            "The number 10 recommended song is This One BY Ziggy Marley And The Melody Makers\n",
            "Recommendation for user with user id 8\n",
            "The number 1 recommended song is Undo BY Björk\n",
            "The number 2 recommended song is Whatever BY Hypasonic\n",
            "The number 3 recommended song is Better To Reign In Hell BY Cradle Of Filth\n",
            "The number 4 recommended song is Canada BY Five Iron Frenzy\n",
            "The number 5 recommended song is I Get Joy BY Coko featuring Kirk Franklin\n",
            "The number 6 recommended song is Mr. Me Too BY Clipse\n",
            "The number 7 recommended song is Heavens Above BY The Style Council\n",
            "The number 8 recommended song is Who's Your Daddy?  BY Benny Benassi\n",
            "The number 9 recommended song is Carry Me In Your Dreams (Albania) BY Kejsi Tola\n",
            "The number 10 recommended song is I Want Your Love BY Transvision Vamp\n",
            "Recommendation for user with user id 873\n",
            "The number 1 recommended song is Permanently Lonely BY Phosphorescent\n",
            "The number 2 recommended song is One Day BY The Verve\n",
            "The number 3 recommended song is My Teacher's Bed BY Logh\n",
            "The number 4 recommended song is A Rush Of Blood To The Head BY Coldplay\n",
            "The number 5 recommended song is Bones BY The Killers\n",
            "The number 6 recommended song is Domingo BY Gotan Project\n",
            "The number 7 recommended song is Ain't Misbehavin' BY Louis Armstrong\n",
            "The number 8 recommended song is Bigger Stronger BY Coldplay\n",
            "The number 9 recommended song is Where'd You Go (Featuring Holly Brook & Jonah Matranga) (Album Version) BY Fort Minor [Featuring Holly Brook And Jonah Matranga]\n",
            "The number 10 recommended song is Water BY The Who\n",
            "Recommendation for user with user id 23\n",
            "The number 1 recommended song is I Will Be Here BY Tiësto & Sneaky Sound System\n",
            "The number 2 recommended song is Copycat BY The Cranberries\n",
            "The number 3 recommended song is Hold On To Me BY Armin van Buuren\n",
            "The number 4 recommended song is Don't Call_ Marylin BY Tickley Feather\n",
            "The number 5 recommended song is The Beautiful Ones (Featuring Dru Hill) BY Mariah Carey Featuring Dru Hill\n",
            "The number 6 recommended song is Animal Instinct BY The Cranberries\n",
            "The number 7 recommended song is The Concept BY The Cranberries\n",
            "The number 8 recommended song is Sunday BY The Cranberries\n",
            "The number 9 recommended song is Never Gonna Be Alone (Album Version) BY Nickelback\n",
            "The number 10 recommended song is Copycat BY The Cranberries\n"
          ],
          "name": "stdout"
        }
      ]
    },
    {
      "metadata": {
        "id": "DkUjD8sUW2nJ",
        "colab_type": "code",
        "colab": {},
        "outputId": "250b6630-6d0c-46a6-914a-acdc0f372edd"
      },
      "cell_type": "code",
      "source": [
        "uTest = [2478]\n",
        "#Get estimated rating for test user\n",
        "print(\"Predictied ratings:\")\n",
        "uTest_recommended_items = compute_estimated_matrix(urm, U, S, Vt, uTest, K, True)"
      ],
      "execution_count": 0,
      "outputs": [
        {
          "output_type": "stream",
          "text": [
            "Predictied ratings:\n"
          ],
          "name": "stdout"
        }
      ]
    },
    {
      "metadata": {
        "id": "aRrRfl1LW2nS",
        "colab_type": "code",
        "colab": {},
        "outputId": "ca56c829-a0d9-46d2-8eb7-dabbf21fd8a5"
      },
      "cell_type": "code",
      "source": [
        "for user in uTest:\n",
        "    print(\"Recommendation for user with user id {}\". format(user))\n",
        "    rank_value = 1\n",
        "    for i in uTest_recommended_items[user,0:10]:\n",
        "        song_details = small_set[small_set.so_index_value == i].drop_duplicates('so_index_value')[['title','artist_name']]\n",
        "        print(\"The number {} recommended song is {} BY {}\".format(rank_value, list(song_details['title'])[0],list(song_details['artist_name'])[0]))\n",
        "        rank_value+=1"
      ],
      "execution_count": 0,
      "outputs": [
        {
          "output_type": "stream",
          "text": [
            "Recommendation for user with user id 2478\n",
            "The number 1 recommended song is As I Em BY Asher Roth / Chester French\n",
            "The number 2 recommended song is Good Things BY Rich Boy / Polow Da Don / Keri Hilson\n",
            "The number 3 recommended song is Ching BY SWAMI featuring SPEE\n",
            "The number 4 recommended song is What If (Album Version) BY Jason Derulo\n",
            "The number 5 recommended song is Kiss the sky BY Shawn Lee feat. Nino Moschella\n",
            "The number 6 recommended song is Suicide On Downing St. BY Tim Finn\n",
            "The number 7 recommended song is The Joker BY Fatboy Slim\n",
            "The number 8 recommended song is Gimme That BY Chris Brown\n",
            "The number 9 recommended song is If You Don't_ Don't BY Jimmy Eat World\n",
            "The number 10 recommended song is A Strangely Isolated Place BY Ulrich Schnauss\n"
          ],
          "name": "stdout"
        }
      ]
    }
  ]
}