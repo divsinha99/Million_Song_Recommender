{
  "nbformat": 4,
  "nbformat_minor": 0,
  "metadata": {
    "colab": {
      "name": "Recommender_project.ipynb",
      "version": "0.3.2",
      "provenance": [],
      "collapsed_sections": [],
      "toc_visible": true
    },
    "kernelspec": {
      "name": "python3",
      "display_name": "Python 3"
    },
    "accelerator": "GPU"
  },
  "cells": [
    {
      "cell_type": "markdown",
      "metadata": {
        "id": "view-in-github",
        "colab_type": "text"
      },
      "source": [
        "[View in Colaboratory](https://colab.research.google.com/github/divsinha99/Million_Song_Recommender/blob/master/Recommender_project.ipynb)"
      ]
    },
    {
      "metadata": {
        "id": "WYkPZ9Gr1nys",
        "colab_type": "text"
      },
      "cell_type": "markdown",
      "source": [
        "# Download and Unzip file\n",
        "## File download"
      ]
    },
    {
      "metadata": {
        "id": "IzwU8cIOgLnd",
        "colab_type": "code",
        "colab": {}
      },
      "cell_type": "code",
      "source": [
        "complete_dataset_url = ' http://labrosa.ee.columbia.edu/millionsong/sites/default/files/challenge/train_triplets.txt.zip'"
      ],
      "execution_count": 0,
      "outputs": []
    },
    {
      "metadata": {
        "id": "jGk6lOpc2Aiz",
        "colab_type": "text"
      },
      "cell_type": "markdown",
      "source": [
        "## Define download locations"
      ]
    },
    {
      "metadata": {
        "id": "f4c9uEs-gqDb",
        "colab_type": "code",
        "colab": {}
      },
      "cell_type": "code",
      "source": [
        "import os\n",
        "\n",
        "datasets_path = os.path.join('..', 'datalab')\n",
        "\n",
        "complete_dataset_path = os.path.join(datasets_path, 'train_triplets.txt.zip')"
      ],
      "execution_count": 0,
      "outputs": []
    },
    {
      "metadata": {
        "id": "129V3zlX2Ii9",
        "colab_type": "text"
      },
      "cell_type": "markdown",
      "source": [
        "## Download the Files"
      ]
    },
    {
      "metadata": {
        "id": "Ql3wUCBghG0k",
        "colab_type": "code",
        "colab": {}
      },
      "cell_type": "code",
      "source": [
        "import urllib\n",
        "\n",
        "complete_f = urllib.request.urlretrieve (complete_dataset_url, complete_dataset_path)"
      ],
      "execution_count": 0,
      "outputs": []
    },
    {
      "metadata": {
        "id": "dtUrmnKS2SPD",
        "colab_type": "text"
      },
      "cell_type": "markdown",
      "source": [
        "## Extract the zip file into a folder"
      ]
    },
    {
      "metadata": {
        "id": "g3_XQjKOiPHf",
        "colab_type": "code",
        "colab": {}
      },
      "cell_type": "code",
      "source": [
        "import zipfile\n",
        "\n",
        "\n",
        "with zipfile.ZipFile(complete_dataset_path, \"r\") as z:\n",
        "    z.extractall(datasets_path)\n"
      ],
      "execution_count": 0,
      "outputs": []
    },
    {
      "metadata": {
        "id": "X-Ozz7tr2Zit",
        "colab_type": "text"
      },
      "cell_type": "markdown",
      "source": [
        "Listing shows that the zip file has been unzipped in the datalab directory."
      ]
    },
    {
      "metadata": {
        "id": "6pEr-YN9i8sK",
        "colab_type": "code",
        "colab": {
          "base_uri": "https://localhost:8080/",
          "height": 34
        },
        "outputId": "7439d50b-42f6-402d-c3b7-1298b1562c90"
      },
      "cell_type": "code",
      "source": [
        "!ls ../datalab"
      ],
      "execution_count": 6,
      "outputs": [
        {
          "output_type": "stream",
          "text": [
            "run.sh\ttrain_triplets.txt  train_triplets.txt.zip  web\r\n"
          ],
          "name": "stdout"
        }
      ]
    },
    {
      "metadata": {
        "id": "eQ82O4BsVpTx",
        "colab_type": "code",
        "colab": {
          "base_uri": "https://localhost:8080/",
          "height": 102
        },
        "outputId": "cf764b2b-dafd-4c62-92e0-1c9c56946f4b"
      },
      "cell_type": "code",
      "source": [
        "raw_data = sc.textFile(\"../datalab/train_triplets.txt\")\n",
        "raw_data.take(5)"
      ],
      "execution_count": 7,
      "outputs": [
        {
          "output_type": "execute_result",
          "data": {
            "text/plain": [
              "['b80344d063b5ccb3212f76538f3d9e43d87dca9e\\tSOAKIMP12A8C130995\\t1',\n",
              " 'b80344d063b5ccb3212f76538f3d9e43d87dca9e\\tSOAPDEY12A81C210A9\\t1',\n",
              " 'b80344d063b5ccb3212f76538f3d9e43d87dca9e\\tSOBBMDR12A8C13253B\\t2',\n",
              " 'b80344d063b5ccb3212f76538f3d9e43d87dca9e\\tSOBFNSP12AF72A0E22\\t1',\n",
              " 'b80344d063b5ccb3212f76538f3d9e43d87dca9e\\tSOBFOVM12A58A7D494\\t1']"
            ]
          },
          "metadata": {
            "tags": []
          },
          "execution_count": 7
        }
      ]
    },
    {
      "metadata": {
        "id": "BHXUUHE9Gs_p",
        "colab_type": "code",
        "colab": {}
      },
      "cell_type": "code",
      "source": [
        "import pandas as pd\n",
        "import numpy as np\n",
        "import matplotlib.pyplot as plt\n",
        "import seaborn as sns\n",
        "%matplotlib inline"
      ],
      "execution_count": 0,
      "outputs": []
    },
    {
      "metadata": {
        "id": "NAoAZGs3kDes",
        "colab_type": "text"
      },
      "cell_type": "markdown",
      "source": [
        "# Load Triplets data [user, song, play_count]"
      ]
    },
    {
      "metadata": {
        "id": "7DFIqljPdbPM",
        "colab_type": "code",
        "colab": {
          "base_uri": "https://localhost:8080/",
          "height": 204
        },
        "outputId": "3eabfa0a-11e3-43f2-f073-f42e9590d769"
      },
      "cell_type": "code",
      "source": [
        "triplet_dataset = pd.read_csv(data_home+\"train_triplets.txt\", \n",
        "                              nrows=10000,sep='\\t', header=None, \n",
        "                              names=['user','song','play_count'])\n",
        "triplet_dataset.head()"
      ],
      "execution_count": 37,
      "outputs": [
        {
          "output_type": "execute_result",
          "data": {
            "text/html": [
              "<div>\n",
              "<style scoped>\n",
              "    .dataframe tbody tr th:only-of-type {\n",
              "        vertical-align: middle;\n",
              "    }\n",
              "\n",
              "    .dataframe tbody tr th {\n",
              "        vertical-align: top;\n",
              "    }\n",
              "\n",
              "    .dataframe thead th {\n",
              "        text-align: right;\n",
              "    }\n",
              "</style>\n",
              "<table border=\"1\" class=\"dataframe\">\n",
              "  <thead>\n",
              "    <tr style=\"text-align: right;\">\n",
              "      <th></th>\n",
              "      <th>user</th>\n",
              "      <th>song</th>\n",
              "      <th>play_count</th>\n",
              "    </tr>\n",
              "  </thead>\n",
              "  <tbody>\n",
              "    <tr>\n",
              "      <th>0</th>\n",
              "      <td>b80344d063b5ccb3212f76538f3d9e43d87dca9e</td>\n",
              "      <td>SOAKIMP12A8C130995</td>\n",
              "      <td>1</td>\n",
              "    </tr>\n",
              "    <tr>\n",
              "      <th>1</th>\n",
              "      <td>b80344d063b5ccb3212f76538f3d9e43d87dca9e</td>\n",
              "      <td>SOAPDEY12A81C210A9</td>\n",
              "      <td>1</td>\n",
              "    </tr>\n",
              "    <tr>\n",
              "      <th>2</th>\n",
              "      <td>b80344d063b5ccb3212f76538f3d9e43d87dca9e</td>\n",
              "      <td>SOBBMDR12A8C13253B</td>\n",
              "      <td>2</td>\n",
              "    </tr>\n",
              "    <tr>\n",
              "      <th>3</th>\n",
              "      <td>b80344d063b5ccb3212f76538f3d9e43d87dca9e</td>\n",
              "      <td>SOBFNSP12AF72A0E22</td>\n",
              "      <td>1</td>\n",
              "    </tr>\n",
              "    <tr>\n",
              "      <th>4</th>\n",
              "      <td>b80344d063b5ccb3212f76538f3d9e43d87dca9e</td>\n",
              "      <td>SOBFOVM12A58A7D494</td>\n",
              "      <td>1</td>\n",
              "    </tr>\n",
              "  </tbody>\n",
              "</table>\n",
              "</div>"
            ],
            "text/plain": [
              "                                       user                song  play_count\n",
              "0  b80344d063b5ccb3212f76538f3d9e43d87dca9e  SOAKIMP12A8C130995           1\n",
              "1  b80344d063b5ccb3212f76538f3d9e43d87dca9e  SOAPDEY12A81C210A9           1\n",
              "2  b80344d063b5ccb3212f76538f3d9e43d87dca9e  SOBBMDR12A8C13253B           2\n",
              "3  b80344d063b5ccb3212f76538f3d9e43d87dca9e  SOBFNSP12AF72A0E22           1\n",
              "4  b80344d063b5ccb3212f76538f3d9e43d87dca9e  SOBFOVM12A58A7D494           1"
            ]
          },
          "metadata": {
            "tags": []
          },
          "execution_count": 37
        }
      ]
    },
    {
      "metadata": {
        "id": "NI5ydNhTnJRu",
        "colab_type": "text"
      },
      "cell_type": "markdown",
      "source": [
        "We need to determine how many unique users (or songs) we should consider. As we have around a million users in the original dataset. \n",
        "\n",
        "If 20% of all the users account for around 80% of total play counts, then it would be a good idea to focus on those 20% rather than the entire population."
      ]
    },
    {
      "metadata": {
        "id": "HyRyzB9nkccj",
        "colab_type": "text"
      },
      "cell_type": "markdown",
      "source": [
        "# User and total play counts\n",
        "Finding out the total play counts of each user from the entire dataset. It can be done by summarizing the dataset by users (or by songs) and getting cumulative sum of play counts. But due to the size of the dataset pandas will run into trouble. \n",
        "So, we will be reading the file line by line and extract the play count information on a user (or a song) and persist that information for later use.\n",
        "\n",
        "**Note**: This is a possible method to use in case the dataset size exceeds the memory available on their systems."
      ]
    },
    {
      "metadata": {
        "id": "xN2hT7S7aHNa",
        "colab_type": "code",
        "colab": {}
      },
      "cell_type": "code",
      "source": [
        "output_dict = {}\n",
        "data_home = \"../datalab/\"\n",
        "with open(data_home+'train_triplets.txt') as f:\n",
        "    for line_number, line in enumerate(f):\n",
        "        user = line.split('\\t')[0]\n",
        "        play_count = int(line.split('\\t')[2])\n",
        "        if user in output_dict:\n",
        "            play_count +=output_dict[user]\n",
        "            output_dict.update({user:play_count})\n",
        "        output_dict.update({user:play_count})\n",
        "output_list = [{'user':k,'play_count':v} for k,v in output_dict.items()]\n",
        "play_count_df = pd.DataFrame(output_list)\n",
        "play_count_df = play_count_df.sort_values(by = 'play_count', ascending = False)"
      ],
      "execution_count": 0,
      "outputs": []
    },
    {
      "metadata": {
        "id": "6brqg1NgkwIg",
        "colab_type": "text"
      },
      "cell_type": "markdown",
      "source": [
        "Total play count of top 10 users."
      ]
    },
    {
      "metadata": {
        "id": "th2pHDFtcjxa",
        "colab_type": "code",
        "colab": {
          "base_uri": "https://localhost:8080/",
          "height": 359
        },
        "outputId": "9d20253c-884c-492e-9861-7e4712553c20"
      },
      "cell_type": "code",
      "source": [
        "play_count_df.head(n =10)"
      ],
      "execution_count": 32,
      "outputs": [
        {
          "output_type": "execute_result",
          "data": {
            "text/html": [
              "<div>\n",
              "<style scoped>\n",
              "    .dataframe tbody tr th:only-of-type {\n",
              "        vertical-align: middle;\n",
              "    }\n",
              "\n",
              "    .dataframe tbody tr th {\n",
              "        vertical-align: top;\n",
              "    }\n",
              "\n",
              "    .dataframe thead th {\n",
              "        text-align: right;\n",
              "    }\n",
              "</style>\n",
              "<table border=\"1\" class=\"dataframe\">\n",
              "  <thead>\n",
              "    <tr style=\"text-align: right;\">\n",
              "      <th></th>\n",
              "      <th>play_count</th>\n",
              "      <th>user</th>\n",
              "    </tr>\n",
              "  </thead>\n",
              "  <tbody>\n",
              "    <tr>\n",
              "      <th>669980</th>\n",
              "      <td>13132</td>\n",
              "      <td>093cb74eb3c517c5179ae24caf0ebec51b24d2a2</td>\n",
              "    </tr>\n",
              "    <tr>\n",
              "      <th>402687</th>\n",
              "      <td>9884</td>\n",
              "      <td>119b7c88d58d0c6eb051365c103da5caf817bea6</td>\n",
              "    </tr>\n",
              "    <tr>\n",
              "      <th>964856</th>\n",
              "      <td>8210</td>\n",
              "      <td>3fa44653315697f42410a30cb766a4eb102080bb</td>\n",
              "    </tr>\n",
              "    <tr>\n",
              "      <th>462404</th>\n",
              "      <td>7015</td>\n",
              "      <td>a2679496cd0af9779a92a13ff7c6af5c81ea8c7b</td>\n",
              "    </tr>\n",
              "    <tr>\n",
              "      <th>991089</th>\n",
              "      <td>6494</td>\n",
              "      <td>d7d2d888ae04d16e994d6964214a1de81392ee04</td>\n",
              "    </tr>\n",
              "    <tr>\n",
              "      <th>234384</th>\n",
              "      <td>6472</td>\n",
              "      <td>4ae01afa8f2430ea0704d502bc7b57fb52164882</td>\n",
              "    </tr>\n",
              "    <tr>\n",
              "      <th>824276</th>\n",
              "      <td>6150</td>\n",
              "      <td>b7c24f770be6b802805ac0e2106624a517643c17</td>\n",
              "    </tr>\n",
              "    <tr>\n",
              "      <th>225988</th>\n",
              "      <td>5656</td>\n",
              "      <td>113255a012b2affeab62607563d03fbdf31b08e7</td>\n",
              "    </tr>\n",
              "    <tr>\n",
              "      <th>30701</th>\n",
              "      <td>5620</td>\n",
              "      <td>6d625c6557df84b60d90426c0116138b617b9449</td>\n",
              "    </tr>\n",
              "    <tr>\n",
              "      <th>355770</th>\n",
              "      <td>5602</td>\n",
              "      <td>99ac3d883681e21ea68071019dba828ce76fe94d</td>\n",
              "    </tr>\n",
              "  </tbody>\n",
              "</table>\n",
              "</div>"
            ],
            "text/plain": [
              "        play_count                                      user\n",
              "669980       13132  093cb74eb3c517c5179ae24caf0ebec51b24d2a2\n",
              "402687        9884  119b7c88d58d0c6eb051365c103da5caf817bea6\n",
              "964856        8210  3fa44653315697f42410a30cb766a4eb102080bb\n",
              "462404        7015  a2679496cd0af9779a92a13ff7c6af5c81ea8c7b\n",
              "991089        6494  d7d2d888ae04d16e994d6964214a1de81392ee04\n",
              "234384        6472  4ae01afa8f2430ea0704d502bc7b57fb52164882\n",
              "824276        6150  b7c24f770be6b802805ac0e2106624a517643c17\n",
              "225988        5656  113255a012b2affeab62607563d03fbdf31b08e7\n",
              "30701         5620  6d625c6557df84b60d90426c0116138b617b9449\n",
              "355770        5602  99ac3d883681e21ea68071019dba828ce76fe94d"
            ]
          },
          "metadata": {
            "tags": []
          },
          "execution_count": 32
        }
      ]
    },
    {
      "metadata": {
        "id": "hAChAX6ecnjG",
        "colab_type": "code",
        "colab": {}
      },
      "cell_type": "code",
      "source": [
        "\n",
        "play_count_df.to_csv(path_or_buf='user_playcount_df.csv', index = False)"
      ],
      "execution_count": 0,
      "outputs": []
    },
    {
      "metadata": {
        "id": "Z4x4Xs2VdLt4",
        "colab_type": "code",
        "colab": {}
      },
      "cell_type": "code",
      "source": [
        "play_count_df.to_csv('play_count_df.csv', index=False)\n",
        "files.download('play_count_df.csv')"
      ],
      "execution_count": 0,
      "outputs": []
    },
    {
      "metadata": {
        "id": "qLXABIDTmjpn",
        "colab_type": "text"
      },
      "cell_type": "markdown",
      "source": [
        "# Song and total play counts\n",
        "Finding out the total play counts of each song from the entire dataset similarly as above."
      ]
    },
    {
      "metadata": {
        "id": "8zEqjiJGbHNZ",
        "colab_type": "code",
        "colab": {}
      },
      "cell_type": "code",
      "source": [
        "output_dict = {}\n",
        "with open(data_home+'train_triplets.txt') as f:\n",
        "    for line_number, line in enumerate(f):\n",
        "        song = line.split('\\t')[1]\n",
        "        play_count = int(line.split('\\t')[2])\n",
        "        if song in output_dict:\n",
        "            play_count +=output_dict[song]\n",
        "            output_dict.update({song:play_count})\n",
        "        output_dict.update({song:play_count})\n",
        "output_list = [{'song':k,'play_count':v} for k,v in output_dict.items()]\n",
        "song_count_df = pd.DataFrame(output_list)\n",
        "song_count_df = song_count_df.sort_values(by = 'play_count', ascending = False)"
      ],
      "execution_count": 0,
      "outputs": []
    },
    {
      "metadata": {
        "id": "24HyvI9an9uP",
        "colab_type": "code",
        "colab": {
          "base_uri": "https://localhost:8080/",
          "height": 359
        },
        "outputId": "cc853b3d-6f4c-4b94-9d45-79d388e64bd9"
      },
      "cell_type": "code",
      "source": [
        "song_count_df.head(10)"
      ],
      "execution_count": 43,
      "outputs": [
        {
          "output_type": "execute_result",
          "data": {
            "text/html": [
              "<div>\n",
              "<style scoped>\n",
              "    .dataframe tbody tr th:only-of-type {\n",
              "        vertical-align: middle;\n",
              "    }\n",
              "\n",
              "    .dataframe tbody tr th {\n",
              "        vertical-align: top;\n",
              "    }\n",
              "\n",
              "    .dataframe thead th {\n",
              "        text-align: right;\n",
              "    }\n",
              "</style>\n",
              "<table border=\"1\" class=\"dataframe\">\n",
              "  <thead>\n",
              "    <tr style=\"text-align: right;\">\n",
              "      <th></th>\n",
              "      <th>play_count</th>\n",
              "      <th>song</th>\n",
              "    </tr>\n",
              "  </thead>\n",
              "  <tbody>\n",
              "    <tr>\n",
              "      <th>202</th>\n",
              "      <td>726885</td>\n",
              "      <td>SOBONKR12A58A7A7E0</td>\n",
              "    </tr>\n",
              "    <tr>\n",
              "      <th>199</th>\n",
              "      <td>648239</td>\n",
              "      <td>SOAUWYT12A81C206F1</td>\n",
              "    </tr>\n",
              "    <tr>\n",
              "      <th>218</th>\n",
              "      <td>527893</td>\n",
              "      <td>SOSXLTC12AF72A7F54</td>\n",
              "    </tr>\n",
              "    <tr>\n",
              "      <th>22</th>\n",
              "      <td>425463</td>\n",
              "      <td>SOFRQTD12A81C233C0</td>\n",
              "    </tr>\n",
              "    <tr>\n",
              "      <th>206</th>\n",
              "      <td>389880</td>\n",
              "      <td>SOEGIYH12A6D4FC0E3</td>\n",
              "    </tr>\n",
              "    <tr>\n",
              "      <th>200</th>\n",
              "      <td>356533</td>\n",
              "      <td>SOAXGDH12A8C13F8A1</td>\n",
              "    </tr>\n",
              "    <tr>\n",
              "      <th>214</th>\n",
              "      <td>292642</td>\n",
              "      <td>SONYKOW12AB01849C9</td>\n",
              "    </tr>\n",
              "    <tr>\n",
              "      <th>1824</th>\n",
              "      <td>274627</td>\n",
              "      <td>SOPUCYA12A8C13A694</td>\n",
              "    </tr>\n",
              "    <tr>\n",
              "      <th>5017</th>\n",
              "      <td>268353</td>\n",
              "      <td>SOUFTBI12AB0183F65</td>\n",
              "    </tr>\n",
              "    <tr>\n",
              "      <th>222</th>\n",
              "      <td>244730</td>\n",
              "      <td>SOVDSJC12A58A7A271</td>\n",
              "    </tr>\n",
              "  </tbody>\n",
              "</table>\n",
              "</div>"
            ],
            "text/plain": [
              "      play_count                song\n",
              "202       726885  SOBONKR12A58A7A7E0\n",
              "199       648239  SOAUWYT12A81C206F1\n",
              "218       527893  SOSXLTC12AF72A7F54\n",
              "22        425463  SOFRQTD12A81C233C0\n",
              "206       389880  SOEGIYH12A6D4FC0E3\n",
              "200       356533  SOAXGDH12A8C13F8A1\n",
              "214       292642  SONYKOW12AB01849C9\n",
              "1824      274627  SOPUCYA12A8C13A694\n",
              "5017      268353  SOUFTBI12AB0183F65\n",
              "222       244730  SOVDSJC12A58A7A271"
            ]
          },
          "metadata": {
            "tags": []
          },
          "execution_count": 43
        }
      ]
    },
    {
      "metadata": {
        "id": "4qK5QJVfnwpM",
        "colab_type": "code",
        "colab": {}
      },
      "cell_type": "code",
      "source": [
        "#song_count_df.to_csv(path_or_buf='song_count_df.csv', index = False)\n",
        "song_count_df.to_csv('song_count_df.csv', index=False)\n",
        "files.download('song_count_df.csv')"
      ],
      "execution_count": 0,
      "outputs": []
    },
    {
      "metadata": {
        "id": "eXyhsOJYyki5",
        "colab_type": "text"
      },
      "cell_type": "markdown",
      "source": [
        "# Sub-setting the data\n",
        "\n",
        "We can see that the play count of top 100000 users is able to explain 40% of the total play counts of all the songs."
      ]
    },
    {
      "metadata": {
        "id": "IBZvJVuHrR3X",
        "colab_type": "code",
        "colab": {
          "base_uri": "https://localhost:8080/",
          "height": 34
        },
        "outputId": "a4020ddb-71c6-4328-a7ad-06dc9193d4a7"
      },
      "cell_type": "code",
      "source": [
        "play_count_df.head(100000).play_count.sum()/song_count_df.play_count.sum()"
      ],
      "execution_count": 52,
      "outputs": [
        {
          "output_type": "execute_result",
          "data": {
            "text/plain": [
              "0.408807280500655"
            ]
          },
          "metadata": {
            "tags": []
          },
          "execution_count": 52
        }
      ]
    },
    {
      "metadata": {
        "id": "qa-VzS-vrTW-",
        "colab_type": "code",
        "colab": {}
      },
      "cell_type": "code",
      "source": [
        "play_count_subset = play_count_df.head(n=100000)\n",
        "user_subset = list(play_count_subset.user)"
      ],
      "execution_count": 0,
      "outputs": []
    },
    {
      "metadata": {
        "id": "-zTWGkcLzhTY",
        "colab_type": "text"
      },
      "cell_type": "markdown",
      "source": [
        "It is seen that the play count of top 30,000  songs is able to explain around 78% of all the songs in the dataset."
      ]
    },
    {
      "metadata": {
        "id": "Kc0D-fjezIb8",
        "colab_type": "code",
        "colab": {
          "base_uri": "https://localhost:8080/",
          "height": 34
        },
        "outputId": "e11b78d7-4b21-447d-ef3b-94c06de4b37a"
      },
      "cell_type": "code",
      "source": [
        "song_count_df.head(30000).play_count.sum()/song_count_df.play_count.sum()"
      ],
      "execution_count": 54,
      "outputs": [
        {
          "output_type": "execute_result",
          "data": {
            "text/plain": [
              "0.7839315366645269"
            ]
          },
          "metadata": {
            "tags": []
          },
          "execution_count": 54
        }
      ]
    },
    {
      "metadata": {
        "id": "1G-5z_fhzdS_",
        "colab_type": "code",
        "colab": {}
      },
      "cell_type": "code",
      "source": [
        "song_count_subset = song_count_df.head(30000)\n",
        "song_subset = list(song_count_subset.song)"
      ],
      "execution_count": 0,
      "outputs": []
    },
    {
      "metadata": {
        "id": "TbQePsdc0Adc",
        "colab_type": "code",
        "colab": {}
      },
      "cell_type": "code",
      "source": [
        "triplet_dataset_full = pd.read_csv(data_home+\"train_triplets.txt\", \n",
        "                              sep='\\t', header=None, \n",
        "                              names=['user','song','play_count'])"
      ],
      "execution_count": 0,
      "outputs": []
    },
    {
      "metadata": {
        "id": "4QUFbkZS5BXl",
        "colab_type": "code",
        "colab": {}
      },
      "cell_type": "code",
      "source": [
        "triplet_dataset_sub = triplet_dataset_full[triplet_dataset_full.user.isin(user_subset)]"
      ],
      "execution_count": 0,
      "outputs": []
    },
    {
      "metadata": {
        "id": "aEfYgbtb5a-M",
        "colab_type": "code",
        "colab": {}
      },
      "cell_type": "code",
      "source": [
        "del(triplet_dataset_full)\n",
        "triplet_dataset_sub_song = triplet_dataset_sub[triplet_dataset_sub.song.isin(song_subset)]\n",
        "del(triplet_dataset_sub)"
      ],
      "execution_count": 0,
      "outputs": []
    },
    {
      "metadata": {
        "id": "DGCcmA0s6Gg2",
        "colab_type": "code",
        "colab": {
          "base_uri": "https://localhost:8080/",
          "height": 442
        },
        "outputId": "399d00ee-e560-46c4-b3b0-8c36105768b5"
      },
      "cell_type": "code",
      "source": [
        "triplet_dataset_sub_song.to_csv('triplet_dataset_sub_song.csv', index=False)\n",
        "files.download('triplet_dataset_sub_song.csv')"
      ],
      "execution_count": 60,
      "outputs": [
        {
          "output_type": "stream",
          "text": [
            "----------------------------------------\n",
            "Exception happened during processing of request from ('::ffff:127.0.0.1', 49808, 0, 0)\n",
            "Traceback (most recent call last):\n",
            "  File \"/usr/lib/python3.6/socketserver.py\", line 317, in _handle_request_noblock\n",
            "    self.process_request(request, client_address)\n",
            "  File \"/usr/lib/python3.6/socketserver.py\", line 348, in process_request\n",
            "    self.finish_request(request, client_address)\n",
            "  File \"/usr/lib/python3.6/socketserver.py\", line 361, in finish_request\n",
            "    self.RequestHandlerClass(request, client_address, self)\n",
            "  File \"/usr/lib/python3.6/socketserver.py\", line 696, in __init__\n",
            "    self.handle()\n",
            "  File \"/usr/lib/python3.6/http/server.py\", line 418, in handle\n",
            "    self.handle_one_request()\n",
            "  File \"/usr/lib/python3.6/http/server.py\", line 406, in handle_one_request\n",
            "    method()\n",
            "  File \"/usr/lib/python3.6/http/server.py\", line 639, in do_GET\n",
            "    self.copyfile(f, self.wfile)\n",
            "  File \"/usr/lib/python3.6/http/server.py\", line 800, in copyfile\n",
            "    shutil.copyfileobj(source, outputfile)\n",
            "  File \"/usr/lib/python3.6/shutil.py\", line 82, in copyfileobj\n",
            "    fdst.write(buf)\n",
            "  File \"/usr/lib/python3.6/socketserver.py\", line 775, in write\n",
            "    self._sock.sendall(b)\n",
            "ConnectionResetError: [Errno 104] Connection reset by peer\n",
            "----------------------------------------\n"
          ],
          "name": "stderr"
        }
      ]
    },
    {
      "metadata": {
        "id": "sSE0e-r46s8T",
        "colab_type": "code",
        "colab": {
          "base_uri": "https://localhost:8080/",
          "height": 34
        },
        "outputId": "27053de3-7b9a-4497-c389-b3cba721f9c0"
      },
      "cell_type": "code",
      "source": [
        "\n",
        "triplet_dataset_sub_song.shape"
      ],
      "execution_count": 61,
      "outputs": [
        {
          "output_type": "execute_result",
          "data": {
            "text/plain": [
              "(10774558, 3)"
            ]
          },
          "metadata": {
            "tags": []
          },
          "execution_count": 61
        }
      ]
    },
    {
      "metadata": {
        "id": "CepE6OsT6YvV",
        "colab_type": "code",
        "colab": {
          "base_uri": "https://localhost:8080/",
          "height": 359
        },
        "outputId": "ca3053c3-34af-4cde-d75b-c9baa3449d5f"
      },
      "cell_type": "code",
      "source": [
        "triplet_dataset_sub_song.head(n=10)"
      ],
      "execution_count": 62,
      "outputs": [
        {
          "output_type": "execute_result",
          "data": {
            "text/html": [
              "<div>\n",
              "<style scoped>\n",
              "    .dataframe tbody tr th:only-of-type {\n",
              "        vertical-align: middle;\n",
              "    }\n",
              "\n",
              "    .dataframe tbody tr th {\n",
              "        vertical-align: top;\n",
              "    }\n",
              "\n",
              "    .dataframe thead th {\n",
              "        text-align: right;\n",
              "    }\n",
              "</style>\n",
              "<table border=\"1\" class=\"dataframe\">\n",
              "  <thead>\n",
              "    <tr style=\"text-align: right;\">\n",
              "      <th></th>\n",
              "      <th>user</th>\n",
              "      <th>song</th>\n",
              "      <th>play_count</th>\n",
              "    </tr>\n",
              "  </thead>\n",
              "  <tbody>\n",
              "    <tr>\n",
              "      <th>498</th>\n",
              "      <td>d6589314c0a9bcbca4fee0c93b14bc402363afea</td>\n",
              "      <td>SOADQPP12A67020C82</td>\n",
              "      <td>12</td>\n",
              "    </tr>\n",
              "    <tr>\n",
              "      <th>499</th>\n",
              "      <td>d6589314c0a9bcbca4fee0c93b14bc402363afea</td>\n",
              "      <td>SOAFTRR12AF72A8D4D</td>\n",
              "      <td>1</td>\n",
              "    </tr>\n",
              "    <tr>\n",
              "      <th>500</th>\n",
              "      <td>d6589314c0a9bcbca4fee0c93b14bc402363afea</td>\n",
              "      <td>SOANQFY12AB0183239</td>\n",
              "      <td>1</td>\n",
              "    </tr>\n",
              "    <tr>\n",
              "      <th>501</th>\n",
              "      <td>d6589314c0a9bcbca4fee0c93b14bc402363afea</td>\n",
              "      <td>SOAYATB12A6701FD50</td>\n",
              "      <td>1</td>\n",
              "    </tr>\n",
              "    <tr>\n",
              "      <th>502</th>\n",
              "      <td>d6589314c0a9bcbca4fee0c93b14bc402363afea</td>\n",
              "      <td>SOBOAFP12A8C131F36</td>\n",
              "      <td>7</td>\n",
              "    </tr>\n",
              "    <tr>\n",
              "      <th>503</th>\n",
              "      <td>d6589314c0a9bcbca4fee0c93b14bc402363afea</td>\n",
              "      <td>SOBONKR12A58A7A7E0</td>\n",
              "      <td>26</td>\n",
              "    </tr>\n",
              "    <tr>\n",
              "      <th>504</th>\n",
              "      <td>d6589314c0a9bcbca4fee0c93b14bc402363afea</td>\n",
              "      <td>SOBZZDU12A6310D8A3</td>\n",
              "      <td>7</td>\n",
              "    </tr>\n",
              "    <tr>\n",
              "      <th>505</th>\n",
              "      <td>d6589314c0a9bcbca4fee0c93b14bc402363afea</td>\n",
              "      <td>SOCAHRT12A8C13A1A4</td>\n",
              "      <td>5</td>\n",
              "    </tr>\n",
              "    <tr>\n",
              "      <th>506</th>\n",
              "      <td>d6589314c0a9bcbca4fee0c93b14bc402363afea</td>\n",
              "      <td>SODASIJ12A6D4F5D89</td>\n",
              "      <td>1</td>\n",
              "    </tr>\n",
              "    <tr>\n",
              "      <th>507</th>\n",
              "      <td>d6589314c0a9bcbca4fee0c93b14bc402363afea</td>\n",
              "      <td>SODEAWL12AB0187032</td>\n",
              "      <td>8</td>\n",
              "    </tr>\n",
              "  </tbody>\n",
              "</table>\n",
              "</div>"
            ],
            "text/plain": [
              "                                         user                song  play_count\n",
              "498  d6589314c0a9bcbca4fee0c93b14bc402363afea  SOADQPP12A67020C82          12\n",
              "499  d6589314c0a9bcbca4fee0c93b14bc402363afea  SOAFTRR12AF72A8D4D           1\n",
              "500  d6589314c0a9bcbca4fee0c93b14bc402363afea  SOANQFY12AB0183239           1\n",
              "501  d6589314c0a9bcbca4fee0c93b14bc402363afea  SOAYATB12A6701FD50           1\n",
              "502  d6589314c0a9bcbca4fee0c93b14bc402363afea  SOBOAFP12A8C131F36           7\n",
              "503  d6589314c0a9bcbca4fee0c93b14bc402363afea  SOBONKR12A58A7A7E0          26\n",
              "504  d6589314c0a9bcbca4fee0c93b14bc402363afea  SOBZZDU12A6310D8A3           7\n",
              "505  d6589314c0a9bcbca4fee0c93b14bc402363afea  SOCAHRT12A8C13A1A4           5\n",
              "506  d6589314c0a9bcbca4fee0c93b14bc402363afea  SODASIJ12A6D4F5D89           1\n",
              "507  d6589314c0a9bcbca4fee0c93b14bc402363afea  SODEAWL12AB0187032           8"
            ]
          },
          "metadata": {
            "tags": []
          },
          "execution_count": 62
        }
      ]
    },
    {
      "metadata": {
        "id": "ZRnuzUcg7lca",
        "colab_type": "text"
      },
      "cell_type": "markdown",
      "source": [
        "# Adding songs metadata from million songs dataset"
      ]
    },
    {
      "metadata": {
        "id": "u1xVdX28Ct8V",
        "colab_type": "code",
        "colab": {}
      },
      "cell_type": "code",
      "source": [
        "complete_dataset_url = 'http://labrosa.ee.columbia.edu/millionsong/sites/default/files/AdditionalFiles/track_metadata.db'\n",
        "\n",
        "import os\n",
        "\n",
        "datasets_path = os.path.join('..', 'datalab')\n",
        "\n",
        "complete_dataset_path = os.path.join(datasets_path, 'track_metadata.db')\n",
        "\n",
        "\n",
        "import urllib\n",
        "\n",
        "complete_f = urllib.request.urlretrieve (complete_dataset_url, complete_dataset_path)"
      ],
      "execution_count": 0,
      "outputs": []
    },
    {
      "metadata": {
        "id": "dmeYAl3VDUcz",
        "colab_type": "code",
        "colab": {
          "base_uri": "https://localhost:8080/",
          "height": 34
        },
        "outputId": "de6b6a12-755c-4aef-bcd2-582c04002349"
      },
      "cell_type": "code",
      "source": [
        "!ls ../datalab"
      ],
      "execution_count": 73,
      "outputs": [
        {
          "output_type": "stream",
          "text": [
            "run.sh\ttrack_metadata.db  train_triplets.txt  train_triplets.txt.zip  web\r\n"
          ],
          "name": "stdout"
        }
      ]
    },
    {
      "metadata": {
        "id": "L_IgM1ih7goQ",
        "colab_type": "code",
        "colab": {
          "base_uri": "https://localhost:8080/",
          "height": 34
        },
        "outputId": "5d2f4631-d205-4274-c8d2-0e06cab29b9a"
      },
      "cell_type": "code",
      "source": [
        "import time\n",
        "import sqlite3\n",
        "import pandas as pd\n",
        "data_home_meta = '../datalab/'\n",
        "conn = sqlite3.connect(data_home_meta+'track_metadata.db')\n",
        "cur = conn.cursor()\n",
        "cur.execute(\"SELECT name FROM sqlite_master WHERE type='table'\")\n",
        "cur.fetchall()\n",
        "\n"
      ],
      "execution_count": 78,
      "outputs": [
        {
          "output_type": "stream",
          "text": [
            "[('songs',)]\n"
          ],
          "name": "stdout"
        }
      ]
    },
    {
      "metadata": {
        "id": "5nhmCW5s70nf",
        "colab_type": "code",
        "colab": {
          "base_uri": "https://localhost:8080/",
          "height": 496
        },
        "outputId": "8e986194-3589-41b3-d138-4207b3d954e8"
      },
      "cell_type": "code",
      "source": [
        "track_metadata_df = pd.read_sql(con=conn, sql='select * from songs')\n",
        "track_metadata_df.head()"
      ],
      "execution_count": 80,
      "outputs": [
        {
          "output_type": "execute_result",
          "data": {
            "text/html": [
              "<div>\n",
              "<style scoped>\n",
              "    .dataframe tbody tr th:only-of-type {\n",
              "        vertical-align: middle;\n",
              "    }\n",
              "\n",
              "    .dataframe tbody tr th {\n",
              "        vertical-align: top;\n",
              "    }\n",
              "\n",
              "    .dataframe thead th {\n",
              "        text-align: right;\n",
              "    }\n",
              "</style>\n",
              "<table border=\"1\" class=\"dataframe\">\n",
              "  <thead>\n",
              "    <tr style=\"text-align: right;\">\n",
              "      <th></th>\n",
              "      <th>track_id</th>\n",
              "      <th>title</th>\n",
              "      <th>song_id</th>\n",
              "      <th>release</th>\n",
              "      <th>artist_id</th>\n",
              "      <th>artist_mbid</th>\n",
              "      <th>artist_name</th>\n",
              "      <th>duration</th>\n",
              "      <th>artist_familiarity</th>\n",
              "      <th>artist_hotttnesss</th>\n",
              "      <th>year</th>\n",
              "      <th>track_7digitalid</th>\n",
              "      <th>shs_perf</th>\n",
              "      <th>shs_work</th>\n",
              "    </tr>\n",
              "  </thead>\n",
              "  <tbody>\n",
              "    <tr>\n",
              "      <th>0</th>\n",
              "      <td>TRMMMYQ128F932D901</td>\n",
              "      <td>Silent Night</td>\n",
              "      <td>SOQMMHC12AB0180CB8</td>\n",
              "      <td>Monster Ballads X-Mas</td>\n",
              "      <td>ARYZTJS1187B98C555</td>\n",
              "      <td>357ff05d-848a-44cf-b608-cb34b5701ae5</td>\n",
              "      <td>Faster Pussy cat</td>\n",
              "      <td>252.05506</td>\n",
              "      <td>0.649822</td>\n",
              "      <td>0.394032</td>\n",
              "      <td>2003</td>\n",
              "      <td>7032331</td>\n",
              "      <td>-1</td>\n",
              "      <td>0</td>\n",
              "    </tr>\n",
              "    <tr>\n",
              "      <th>1</th>\n",
              "      <td>TRMMMKD128F425225D</td>\n",
              "      <td>Tanssi vaan</td>\n",
              "      <td>SOVFVAK12A8C1350D9</td>\n",
              "      <td>Karkuteillä</td>\n",
              "      <td>ARMVN3U1187FB3A1EB</td>\n",
              "      <td>8d7ef530-a6fd-4f8f-b2e2-74aec765e0f9</td>\n",
              "      <td>Karkkiautomaatti</td>\n",
              "      <td>156.55138</td>\n",
              "      <td>0.439604</td>\n",
              "      <td>0.356992</td>\n",
              "      <td>1995</td>\n",
              "      <td>1514808</td>\n",
              "      <td>-1</td>\n",
              "      <td>0</td>\n",
              "    </tr>\n",
              "    <tr>\n",
              "      <th>2</th>\n",
              "      <td>TRMMMRX128F93187D9</td>\n",
              "      <td>No One Could Ever</td>\n",
              "      <td>SOGTUKN12AB017F4F1</td>\n",
              "      <td>Butter</td>\n",
              "      <td>ARGEKB01187FB50750</td>\n",
              "      <td>3d403d44-36ce-465c-ad43-ae877e65adc4</td>\n",
              "      <td>Hudson Mohawke</td>\n",
              "      <td>138.97098</td>\n",
              "      <td>0.643681</td>\n",
              "      <td>0.437504</td>\n",
              "      <td>2006</td>\n",
              "      <td>6945353</td>\n",
              "      <td>-1</td>\n",
              "      <td>0</td>\n",
              "    </tr>\n",
              "    <tr>\n",
              "      <th>3</th>\n",
              "      <td>TRMMMCH128F425532C</td>\n",
              "      <td>Si Vos Querés</td>\n",
              "      <td>SOBNYVR12A8C13558C</td>\n",
              "      <td>De Culo</td>\n",
              "      <td>ARNWYLR1187B9B2F9C</td>\n",
              "      <td>12be7648-7094-495f-90e6-df4189d68615</td>\n",
              "      <td>Yerba Brava</td>\n",
              "      <td>145.05751</td>\n",
              "      <td>0.448501</td>\n",
              "      <td>0.372349</td>\n",
              "      <td>2003</td>\n",
              "      <td>2168257</td>\n",
              "      <td>-1</td>\n",
              "      <td>0</td>\n",
              "    </tr>\n",
              "    <tr>\n",
              "      <th>4</th>\n",
              "      <td>TRMMMWA128F426B589</td>\n",
              "      <td>Tangle Of Aspens</td>\n",
              "      <td>SOHSBXH12A8C13B0DF</td>\n",
              "      <td>Rene Ablaze Presents Winter Sessions</td>\n",
              "      <td>AREQDTE1269FB37231</td>\n",
              "      <td></td>\n",
              "      <td>Der Mystic</td>\n",
              "      <td>514.29832</td>\n",
              "      <td>0.000000</td>\n",
              "      <td>0.000000</td>\n",
              "      <td>0</td>\n",
              "      <td>2264873</td>\n",
              "      <td>-1</td>\n",
              "      <td>0</td>\n",
              "    </tr>\n",
              "  </tbody>\n",
              "</table>\n",
              "</div>"
            ],
            "text/plain": [
              "             track_id              title             song_id  \\\n",
              "0  TRMMMYQ128F932D901       Silent Night  SOQMMHC12AB0180CB8   \n",
              "1  TRMMMKD128F425225D        Tanssi vaan  SOVFVAK12A8C1350D9   \n",
              "2  TRMMMRX128F93187D9  No One Could Ever  SOGTUKN12AB017F4F1   \n",
              "3  TRMMMCH128F425532C      Si Vos Querés  SOBNYVR12A8C13558C   \n",
              "4  TRMMMWA128F426B589   Tangle Of Aspens  SOHSBXH12A8C13B0DF   \n",
              "\n",
              "                                release           artist_id  \\\n",
              "0                 Monster Ballads X-Mas  ARYZTJS1187B98C555   \n",
              "1                           Karkuteillä  ARMVN3U1187FB3A1EB   \n",
              "2                                Butter  ARGEKB01187FB50750   \n",
              "3                               De Culo  ARNWYLR1187B9B2F9C   \n",
              "4  Rene Ablaze Presents Winter Sessions  AREQDTE1269FB37231   \n",
              "\n",
              "                            artist_mbid       artist_name   duration  \\\n",
              "0  357ff05d-848a-44cf-b608-cb34b5701ae5  Faster Pussy cat  252.05506   \n",
              "1  8d7ef530-a6fd-4f8f-b2e2-74aec765e0f9  Karkkiautomaatti  156.55138   \n",
              "2  3d403d44-36ce-465c-ad43-ae877e65adc4    Hudson Mohawke  138.97098   \n",
              "3  12be7648-7094-495f-90e6-df4189d68615       Yerba Brava  145.05751   \n",
              "4                                              Der Mystic  514.29832   \n",
              "\n",
              "   artist_familiarity  artist_hotttnesss  year  track_7digitalid  shs_perf  \\\n",
              "0            0.649822           0.394032  2003           7032331        -1   \n",
              "1            0.439604           0.356992  1995           1514808        -1   \n",
              "2            0.643681           0.437504  2006           6945353        -1   \n",
              "3            0.448501           0.372349  2003           2168257        -1   \n",
              "4            0.000000           0.000000     0           2264873        -1   \n",
              "\n",
              "   shs_work  \n",
              "0         0  \n",
              "1         0  \n",
              "2         0  \n",
              "3         0  \n",
              "4         0  "
            ]
          },
          "metadata": {
            "tags": []
          },
          "execution_count": 80
        }
      ]
    },
    {
      "metadata": {
        "id": "PohMA3hl7-l7",
        "colab_type": "code",
        "colab": {}
      },
      "cell_type": "code",
      "source": [
        "track_metadata_df_sub = track_metadata_df[track_metadata_df.song_id.isin(song_subset)]"
      ],
      "execution_count": 0,
      "outputs": []
    },
    {
      "metadata": {
        "id": "r9C7ekt0Ezjv",
        "colab_type": "code",
        "colab": {}
      },
      "cell_type": "code",
      "source": [
        "track_metadata_df_sub.to_csv('track_metadata_df_sub.csv', index=False)\n",
        "files.download('track_metadata_df_sub.csv')"
      ],
      "execution_count": 0,
      "outputs": []
    },
    {
      "metadata": {
        "id": "R2O9JAGrE9qi",
        "colab_type": "code",
        "colab": {
          "base_uri": "https://localhost:8080/",
          "height": 34
        },
        "outputId": "ea0546f1-1722-468b-e43b-48cc5b21c676"
      },
      "cell_type": "code",
      "source": [
        "track_metadata_df_sub.shape"
      ],
      "execution_count": 83,
      "outputs": [
        {
          "output_type": "execute_result",
          "data": {
            "text/plain": [
              "(30447, 14)"
            ]
          },
          "metadata": {
            "tags": []
          },
          "execution_count": 83
        }
      ]
    },
    {
      "metadata": {
        "id": "5f7uWvWDJU0V",
        "colab_type": "text"
      },
      "cell_type": "markdown",
      "source": [
        "# Load the datasets"
      ]
    },
    {
      "metadata": {
        "id": "OQ7GSwuWF-Ju",
        "colab_type": "code",
        "colab": {
          "base_uri": "https://localhost:8080/",
          "height": 204
        },
        "outputId": "9d266830-7ac8-4635-9225-f47087256657"
      },
      "cell_type": "code",
      "source": [
        "triplet_dataset_sub_song.head()"
      ],
      "execution_count": 85,
      "outputs": [
        {
          "output_type": "execute_result",
          "data": {
            "text/html": [
              "<div>\n",
              "<style scoped>\n",
              "    .dataframe tbody tr th:only-of-type {\n",
              "        vertical-align: middle;\n",
              "    }\n",
              "\n",
              "    .dataframe tbody tr th {\n",
              "        vertical-align: top;\n",
              "    }\n",
              "\n",
              "    .dataframe thead th {\n",
              "        text-align: right;\n",
              "    }\n",
              "</style>\n",
              "<table border=\"1\" class=\"dataframe\">\n",
              "  <thead>\n",
              "    <tr style=\"text-align: right;\">\n",
              "      <th></th>\n",
              "      <th>user</th>\n",
              "      <th>song</th>\n",
              "      <th>play_count</th>\n",
              "    </tr>\n",
              "  </thead>\n",
              "  <tbody>\n",
              "    <tr>\n",
              "      <th>498</th>\n",
              "      <td>d6589314c0a9bcbca4fee0c93b14bc402363afea</td>\n",
              "      <td>SOADQPP12A67020C82</td>\n",
              "      <td>12</td>\n",
              "    </tr>\n",
              "    <tr>\n",
              "      <th>499</th>\n",
              "      <td>d6589314c0a9bcbca4fee0c93b14bc402363afea</td>\n",
              "      <td>SOAFTRR12AF72A8D4D</td>\n",
              "      <td>1</td>\n",
              "    </tr>\n",
              "    <tr>\n",
              "      <th>500</th>\n",
              "      <td>d6589314c0a9bcbca4fee0c93b14bc402363afea</td>\n",
              "      <td>SOANQFY12AB0183239</td>\n",
              "      <td>1</td>\n",
              "    </tr>\n",
              "    <tr>\n",
              "      <th>501</th>\n",
              "      <td>d6589314c0a9bcbca4fee0c93b14bc402363afea</td>\n",
              "      <td>SOAYATB12A6701FD50</td>\n",
              "      <td>1</td>\n",
              "    </tr>\n",
              "    <tr>\n",
              "      <th>502</th>\n",
              "      <td>d6589314c0a9bcbca4fee0c93b14bc402363afea</td>\n",
              "      <td>SOBOAFP12A8C131F36</td>\n",
              "      <td>7</td>\n",
              "    </tr>\n",
              "  </tbody>\n",
              "</table>\n",
              "</div>"
            ],
            "text/plain": [
              "                                         user                song  play_count\n",
              "498  d6589314c0a9bcbca4fee0c93b14bc402363afea  SOADQPP12A67020C82          12\n",
              "499  d6589314c0a9bcbca4fee0c93b14bc402363afea  SOAFTRR12AF72A8D4D           1\n",
              "500  d6589314c0a9bcbca4fee0c93b14bc402363afea  SOANQFY12AB0183239           1\n",
              "501  d6589314c0a9bcbca4fee0c93b14bc402363afea  SOAYATB12A6701FD50           1\n",
              "502  d6589314c0a9bcbca4fee0c93b14bc402363afea  SOBOAFP12A8C131F36           7"
            ]
          },
          "metadata": {
            "tags": []
          },
          "execution_count": 85
        }
      ]
    },
    {
      "metadata": {
        "id": "a4DtYikCKRWy",
        "colab_type": "code",
        "colab": {
          "base_uri": "https://localhost:8080/",
          "height": 233
        },
        "outputId": "dc71da28-54c2-4f2a-93a5-1168d5b8ad1c"
      },
      "cell_type": "code",
      "source": [
        "track_metadata_df_sub.head(2)"
      ],
      "execution_count": 87,
      "outputs": [
        {
          "output_type": "execute_result",
          "data": {
            "text/html": [
              "<div>\n",
              "<style scoped>\n",
              "    .dataframe tbody tr th:only-of-type {\n",
              "        vertical-align: middle;\n",
              "    }\n",
              "\n",
              "    .dataframe tbody tr th {\n",
              "        vertical-align: top;\n",
              "    }\n",
              "\n",
              "    .dataframe thead th {\n",
              "        text-align: right;\n",
              "    }\n",
              "</style>\n",
              "<table border=\"1\" class=\"dataframe\">\n",
              "  <thead>\n",
              "    <tr style=\"text-align: right;\">\n",
              "      <th></th>\n",
              "      <th>track_id</th>\n",
              "      <th>title</th>\n",
              "      <th>song_id</th>\n",
              "      <th>release</th>\n",
              "      <th>artist_id</th>\n",
              "      <th>artist_mbid</th>\n",
              "      <th>artist_name</th>\n",
              "      <th>duration</th>\n",
              "      <th>artist_familiarity</th>\n",
              "      <th>artist_hotttnesss</th>\n",
              "      <th>year</th>\n",
              "      <th>track_7digitalid</th>\n",
              "      <th>shs_perf</th>\n",
              "      <th>shs_work</th>\n",
              "    </tr>\n",
              "  </thead>\n",
              "  <tbody>\n",
              "    <tr>\n",
              "      <th>115</th>\n",
              "      <td>TRMMGCB128E079651D</td>\n",
              "      <td>Get Along (Feat: Pace Won) (Instrumental)</td>\n",
              "      <td>SOHNWIM12A67ADF7D9</td>\n",
              "      <td>Charango</td>\n",
              "      <td>ARU3C671187FB3F71B</td>\n",
              "      <td>067102ea-9519-4622-9077-57ca4164cfbb</td>\n",
              "      <td>Morcheeba</td>\n",
              "      <td>227.47383</td>\n",
              "      <td>0.819087</td>\n",
              "      <td>0.533117</td>\n",
              "      <td>2002</td>\n",
              "      <td>185967</td>\n",
              "      <td>-1</td>\n",
              "      <td>0</td>\n",
              "    </tr>\n",
              "    <tr>\n",
              "      <th>123</th>\n",
              "      <td>TRMMGTX128F92FB4D9</td>\n",
              "      <td>Viejo</td>\n",
              "      <td>SOECFIW12A8C144546</td>\n",
              "      <td>Caraluna</td>\n",
              "      <td>ARPAAPH1187FB3601B</td>\n",
              "      <td>f69d655c-ffd6-4bee-8c2a-3086b2be2fc6</td>\n",
              "      <td>Bacilos</td>\n",
              "      <td>307.51302</td>\n",
              "      <td>0.595554</td>\n",
              "      <td>0.400705</td>\n",
              "      <td>0</td>\n",
              "      <td>6825058</td>\n",
              "      <td>-1</td>\n",
              "      <td>0</td>\n",
              "    </tr>\n",
              "  </tbody>\n",
              "</table>\n",
              "</div>"
            ],
            "text/plain": [
              "               track_id                                      title  \\\n",
              "115  TRMMGCB128E079651D  Get Along (Feat: Pace Won) (Instrumental)   \n",
              "123  TRMMGTX128F92FB4D9                                      Viejo   \n",
              "\n",
              "                song_id   release           artist_id  \\\n",
              "115  SOHNWIM12A67ADF7D9  Charango  ARU3C671187FB3F71B   \n",
              "123  SOECFIW12A8C144546  Caraluna  ARPAAPH1187FB3601B   \n",
              "\n",
              "                              artist_mbid artist_name   duration  \\\n",
              "115  067102ea-9519-4622-9077-57ca4164cfbb   Morcheeba  227.47383   \n",
              "123  f69d655c-ffd6-4bee-8c2a-3086b2be2fc6     Bacilos  307.51302   \n",
              "\n",
              "     artist_familiarity  artist_hotttnesss  year  track_7digitalid  shs_perf  \\\n",
              "115            0.819087           0.533117  2002            185967        -1   \n",
              "123            0.595554           0.400705     0           6825058        -1   \n",
              "\n",
              "     shs_work  \n",
              "115         0  \n",
              "123         0  "
            ]
          },
          "metadata": {
            "tags": []
          },
          "execution_count": 87
        }
      ]
    },
    {
      "metadata": {
        "id": "-d1q-jqSKcCO",
        "colab_type": "code",
        "colab": {}
      },
      "cell_type": "code",
      "source": [
        "del(track_metadata_df_sub['track_id'])\n",
        "del(track_metadata_df_sub['artist_id'])\n"
      ],
      "execution_count": 0,
      "outputs": []
    },
    {
      "metadata": {
        "id": "NcwK5CYALaaf",
        "colab_type": "code",
        "colab": {
          "base_uri": "https://localhost:8080/",
          "height": 233
        },
        "outputId": "ad7dc7f4-3284-4da2-addf-20d34806326c"
      },
      "cell_type": "code",
      "source": [
        "track_metadata_df_sub.head(2)"
      ],
      "execution_count": 89,
      "outputs": [
        {
          "output_type": "execute_result",
          "data": {
            "text/html": [
              "<div>\n",
              "<style scoped>\n",
              "    .dataframe tbody tr th:only-of-type {\n",
              "        vertical-align: middle;\n",
              "    }\n",
              "\n",
              "    .dataframe tbody tr th {\n",
              "        vertical-align: top;\n",
              "    }\n",
              "\n",
              "    .dataframe thead th {\n",
              "        text-align: right;\n",
              "    }\n",
              "</style>\n",
              "<table border=\"1\" class=\"dataframe\">\n",
              "  <thead>\n",
              "    <tr style=\"text-align: right;\">\n",
              "      <th></th>\n",
              "      <th>title</th>\n",
              "      <th>song_id</th>\n",
              "      <th>release</th>\n",
              "      <th>artist_mbid</th>\n",
              "      <th>artist_name</th>\n",
              "      <th>duration</th>\n",
              "      <th>artist_familiarity</th>\n",
              "      <th>artist_hotttnesss</th>\n",
              "      <th>year</th>\n",
              "      <th>track_7digitalid</th>\n",
              "      <th>shs_perf</th>\n",
              "      <th>shs_work</th>\n",
              "    </tr>\n",
              "  </thead>\n",
              "  <tbody>\n",
              "    <tr>\n",
              "      <th>115</th>\n",
              "      <td>Get Along (Feat: Pace Won) (Instrumental)</td>\n",
              "      <td>SOHNWIM12A67ADF7D9</td>\n",
              "      <td>Charango</td>\n",
              "      <td>067102ea-9519-4622-9077-57ca4164cfbb</td>\n",
              "      <td>Morcheeba</td>\n",
              "      <td>227.47383</td>\n",
              "      <td>0.819087</td>\n",
              "      <td>0.533117</td>\n",
              "      <td>2002</td>\n",
              "      <td>185967</td>\n",
              "      <td>-1</td>\n",
              "      <td>0</td>\n",
              "    </tr>\n",
              "    <tr>\n",
              "      <th>123</th>\n",
              "      <td>Viejo</td>\n",
              "      <td>SOECFIW12A8C144546</td>\n",
              "      <td>Caraluna</td>\n",
              "      <td>f69d655c-ffd6-4bee-8c2a-3086b2be2fc6</td>\n",
              "      <td>Bacilos</td>\n",
              "      <td>307.51302</td>\n",
              "      <td>0.595554</td>\n",
              "      <td>0.400705</td>\n",
              "      <td>0</td>\n",
              "      <td>6825058</td>\n",
              "      <td>-1</td>\n",
              "      <td>0</td>\n",
              "    </tr>\n",
              "  </tbody>\n",
              "</table>\n",
              "</div>"
            ],
            "text/plain": [
              "                                         title             song_id   release  \\\n",
              "115  Get Along (Feat: Pace Won) (Instrumental)  SOHNWIM12A67ADF7D9  Charango   \n",
              "123                                      Viejo  SOECFIW12A8C144546  Caraluna   \n",
              "\n",
              "                              artist_mbid artist_name   duration  \\\n",
              "115  067102ea-9519-4622-9077-57ca4164cfbb   Morcheeba  227.47383   \n",
              "123  f69d655c-ffd6-4bee-8c2a-3086b2be2fc6     Bacilos  307.51302   \n",
              "\n",
              "     artist_familiarity  artist_hotttnesss  year  track_7digitalid  shs_perf  \\\n",
              "115            0.819087           0.533117  2002            185967        -1   \n",
              "123            0.595554           0.400705     0           6825058        -1   \n",
              "\n",
              "     shs_work  \n",
              "115         0  \n",
              "123         0  "
            ]
          },
          "metadata": {
            "tags": []
          },
          "execution_count": 89
        }
      ]
    },
    {
      "metadata": {
        "id": "gBp0KoncLi1E",
        "colab_type": "code",
        "colab": {
          "base_uri": "https://localhost:8080/",
          "height": 496
        },
        "outputId": "443dbb30-b147-4db9-b918-05fe4c58bd8f"
      },
      "cell_type": "code",
      "source": [
        "track_metadata_df_sub = track_metadata_df_sub.drop_duplicates(['song_id'])\n",
        "triplet_dataset_sub_song_merged = pd.merge(triplet_dataset_sub_song, track_metadata_df_sub, how='left', left_on='song', right_on='song_id')\n",
        "triplet_dataset_sub_song_merged.rename(columns={'play_count':'listen_count'},inplace=True)\n",
        "triplet_dataset_sub_song_merged.head()"
      ],
      "execution_count": 90,
      "outputs": [
        {
          "output_type": "execute_result",
          "data": {
            "text/html": [
              "<div>\n",
              "<style scoped>\n",
              "    .dataframe tbody tr th:only-of-type {\n",
              "        vertical-align: middle;\n",
              "    }\n",
              "\n",
              "    .dataframe tbody tr th {\n",
              "        vertical-align: top;\n",
              "    }\n",
              "\n",
              "    .dataframe thead th {\n",
              "        text-align: right;\n",
              "    }\n",
              "</style>\n",
              "<table border=\"1\" class=\"dataframe\">\n",
              "  <thead>\n",
              "    <tr style=\"text-align: right;\">\n",
              "      <th></th>\n",
              "      <th>user</th>\n",
              "      <th>song</th>\n",
              "      <th>listen_count</th>\n",
              "      <th>title</th>\n",
              "      <th>song_id</th>\n",
              "      <th>release</th>\n",
              "      <th>artist_mbid</th>\n",
              "      <th>artist_name</th>\n",
              "      <th>duration</th>\n",
              "      <th>artist_familiarity</th>\n",
              "      <th>artist_hotttnesss</th>\n",
              "      <th>year</th>\n",
              "      <th>track_7digitalid</th>\n",
              "      <th>shs_perf</th>\n",
              "      <th>shs_work</th>\n",
              "    </tr>\n",
              "  </thead>\n",
              "  <tbody>\n",
              "    <tr>\n",
              "      <th>0</th>\n",
              "      <td>d6589314c0a9bcbca4fee0c93b14bc402363afea</td>\n",
              "      <td>SOADQPP12A67020C82</td>\n",
              "      <td>12</td>\n",
              "      <td>You And Me Jesus</td>\n",
              "      <td>SOADQPP12A67020C82</td>\n",
              "      <td>Tribute To Jake Hess</td>\n",
              "      <td>d8881a78-e6c6-4cd7-bd43-1a6c4b8ef4ba</td>\n",
              "      <td>Jake Hess</td>\n",
              "      <td>199.26159</td>\n",
              "      <td>0.374553</td>\n",
              "      <td>0.327544</td>\n",
              "      <td>2004</td>\n",
              "      <td>142275</td>\n",
              "      <td>-1</td>\n",
              "      <td>0</td>\n",
              "    </tr>\n",
              "    <tr>\n",
              "      <th>1</th>\n",
              "      <td>d6589314c0a9bcbca4fee0c93b14bc402363afea</td>\n",
              "      <td>SOAFTRR12AF72A8D4D</td>\n",
              "      <td>1</td>\n",
              "      <td>Harder Better Faster Stronger</td>\n",
              "      <td>SOAFTRR12AF72A8D4D</td>\n",
              "      <td>Discovery</td>\n",
              "      <td>056e4f3e-d505-4dad-8ec1-d04f521cbb56</td>\n",
              "      <td>Daft Punk</td>\n",
              "      <td>223.60771</td>\n",
              "      <td>0.902841</td>\n",
              "      <td>1.021256</td>\n",
              "      <td>2007</td>\n",
              "      <td>485119</td>\n",
              "      <td>-1</td>\n",
              "      <td>0</td>\n",
              "    </tr>\n",
              "    <tr>\n",
              "      <th>2</th>\n",
              "      <td>d6589314c0a9bcbca4fee0c93b14bc402363afea</td>\n",
              "      <td>SOANQFY12AB0183239</td>\n",
              "      <td>1</td>\n",
              "      <td>Uprising</td>\n",
              "      <td>SOANQFY12AB0183239</td>\n",
              "      <td>Uprising</td>\n",
              "      <td>fd857293-5ab8-40de-b29e-55a69d4e4d0f</td>\n",
              "      <td>Muse</td>\n",
              "      <td>304.84853</td>\n",
              "      <td>0.929030</td>\n",
              "      <td>0.750427</td>\n",
              "      <td>0</td>\n",
              "      <td>6024257</td>\n",
              "      <td>-1</td>\n",
              "      <td>0</td>\n",
              "    </tr>\n",
              "    <tr>\n",
              "      <th>3</th>\n",
              "      <td>d6589314c0a9bcbca4fee0c93b14bc402363afea</td>\n",
              "      <td>SOAYATB12A6701FD50</td>\n",
              "      <td>1</td>\n",
              "      <td>Breakfast At Tiffany's</td>\n",
              "      <td>SOAYATB12A6701FD50</td>\n",
              "      <td>Home</td>\n",
              "      <td>ae3f6a8a-c465-4707-8667-8ce0172bc417</td>\n",
              "      <td>Deep Blue Something</td>\n",
              "      <td>257.22730</td>\n",
              "      <td>0.655889</td>\n",
              "      <td>0.409729</td>\n",
              "      <td>1993</td>\n",
              "      <td>163047</td>\n",
              "      <td>-1</td>\n",
              "      <td>0</td>\n",
              "    </tr>\n",
              "    <tr>\n",
              "      <th>4</th>\n",
              "      <td>d6589314c0a9bcbca4fee0c93b14bc402363afea</td>\n",
              "      <td>SOBOAFP12A8C131F36</td>\n",
              "      <td>7</td>\n",
              "      <td>Lucky (Album Version)</td>\n",
              "      <td>SOBOAFP12A8C131F36</td>\n",
              "      <td>We Sing.  We Dance.  We Steal Things.</td>\n",
              "      <td>82eb8936-7bf6-4577-8320-a2639465206d</td>\n",
              "      <td>Jason Mraz &amp; Colbie Caillat</td>\n",
              "      <td>189.62240</td>\n",
              "      <td>0.842972</td>\n",
              "      <td>0.770117</td>\n",
              "      <td>0</td>\n",
              "      <td>2638597</td>\n",
              "      <td>-1</td>\n",
              "      <td>0</td>\n",
              "    </tr>\n",
              "  </tbody>\n",
              "</table>\n",
              "</div>"
            ],
            "text/plain": [
              "                                       user                song  listen_count  \\\n",
              "0  d6589314c0a9bcbca4fee0c93b14bc402363afea  SOADQPP12A67020C82            12   \n",
              "1  d6589314c0a9bcbca4fee0c93b14bc402363afea  SOAFTRR12AF72A8D4D             1   \n",
              "2  d6589314c0a9bcbca4fee0c93b14bc402363afea  SOANQFY12AB0183239             1   \n",
              "3  d6589314c0a9bcbca4fee0c93b14bc402363afea  SOAYATB12A6701FD50             1   \n",
              "4  d6589314c0a9bcbca4fee0c93b14bc402363afea  SOBOAFP12A8C131F36             7   \n",
              "\n",
              "                           title             song_id  \\\n",
              "0               You And Me Jesus  SOADQPP12A67020C82   \n",
              "1  Harder Better Faster Stronger  SOAFTRR12AF72A8D4D   \n",
              "2                       Uprising  SOANQFY12AB0183239   \n",
              "3         Breakfast At Tiffany's  SOAYATB12A6701FD50   \n",
              "4          Lucky (Album Version)  SOBOAFP12A8C131F36   \n",
              "\n",
              "                                 release  \\\n",
              "0                   Tribute To Jake Hess   \n",
              "1                              Discovery   \n",
              "2                               Uprising   \n",
              "3                                   Home   \n",
              "4  We Sing.  We Dance.  We Steal Things.   \n",
              "\n",
              "                            artist_mbid                  artist_name  \\\n",
              "0  d8881a78-e6c6-4cd7-bd43-1a6c4b8ef4ba                    Jake Hess   \n",
              "1  056e4f3e-d505-4dad-8ec1-d04f521cbb56                    Daft Punk   \n",
              "2  fd857293-5ab8-40de-b29e-55a69d4e4d0f                         Muse   \n",
              "3  ae3f6a8a-c465-4707-8667-8ce0172bc417          Deep Blue Something   \n",
              "4  82eb8936-7bf6-4577-8320-a2639465206d  Jason Mraz & Colbie Caillat   \n",
              "\n",
              "    duration  artist_familiarity  artist_hotttnesss  year  track_7digitalid  \\\n",
              "0  199.26159            0.374553           0.327544  2004            142275   \n",
              "1  223.60771            0.902841           1.021256  2007            485119   \n",
              "2  304.84853            0.929030           0.750427     0           6024257   \n",
              "3  257.22730            0.655889           0.409729  1993            163047   \n",
              "4  189.62240            0.842972           0.770117     0           2638597   \n",
              "\n",
              "   shs_perf  shs_work  \n",
              "0        -1         0  \n",
              "1        -1         0  \n",
              "2        -1         0  \n",
              "3        -1         0  \n",
              "4        -1         0  "
            ]
          },
          "metadata": {
            "tags": []
          },
          "execution_count": 90
        }
      ]
    },
    {
      "metadata": {
        "id": "PPF2kyzsMjzN",
        "colab_type": "code",
        "colab": {}
      },
      "cell_type": "code",
      "source": [
        "#del(triplet_dataset_sub_song_merged['song_id'])\n",
        "#del(triplet_dataset_sub_song_merged['artist_id'])\n",
        "del(triplet_dataset_sub_song_merged['duration'])\n",
        "del(triplet_dataset_sub_song_merged['artist_familiarity'])\n",
        "del(triplet_dataset_sub_song_merged['artist_hotttnesss'])\n",
        "del(triplet_dataset_sub_song_merged['track_7digitalid'])\n",
        "del(triplet_dataset_sub_song_merged['shs_perf'])\n",
        "del(triplet_dataset_sub_song_merged['shs_work'])"
      ],
      "execution_count": 0,
      "outputs": []
    },
    {
      "metadata": {
        "id": "IKOmKKQLRXYx",
        "colab_type": "code",
        "colab": {
          "base_uri": "https://localhost:8080/",
          "height": 233
        },
        "outputId": "82037d65-215e-4191-892a-08f72fbf2898"
      },
      "cell_type": "code",
      "source": [
        "triplet_dataset_sub_song_merged.head(2)"
      ],
      "execution_count": 94,
      "outputs": [
        {
          "output_type": "execute_result",
          "data": {
            "text/html": [
              "<div>\n",
              "<style scoped>\n",
              "    .dataframe tbody tr th:only-of-type {\n",
              "        vertical-align: middle;\n",
              "    }\n",
              "\n",
              "    .dataframe tbody tr th {\n",
              "        vertical-align: top;\n",
              "    }\n",
              "\n",
              "    .dataframe thead th {\n",
              "        text-align: right;\n",
              "    }\n",
              "</style>\n",
              "<table border=\"1\" class=\"dataframe\">\n",
              "  <thead>\n",
              "    <tr style=\"text-align: right;\">\n",
              "      <th></th>\n",
              "      <th>user</th>\n",
              "      <th>song</th>\n",
              "      <th>listen_count</th>\n",
              "      <th>title</th>\n",
              "      <th>release</th>\n",
              "      <th>artist_mbid</th>\n",
              "      <th>artist_name</th>\n",
              "      <th>year</th>\n",
              "    </tr>\n",
              "  </thead>\n",
              "  <tbody>\n",
              "    <tr>\n",
              "      <th>0</th>\n",
              "      <td>d6589314c0a9bcbca4fee0c93b14bc402363afea</td>\n",
              "      <td>SOADQPP12A67020C82</td>\n",
              "      <td>12</td>\n",
              "      <td>You And Me Jesus</td>\n",
              "      <td>Tribute To Jake Hess</td>\n",
              "      <td>d8881a78-e6c6-4cd7-bd43-1a6c4b8ef4ba</td>\n",
              "      <td>Jake Hess</td>\n",
              "      <td>2004</td>\n",
              "    </tr>\n",
              "    <tr>\n",
              "      <th>1</th>\n",
              "      <td>d6589314c0a9bcbca4fee0c93b14bc402363afea</td>\n",
              "      <td>SOAFTRR12AF72A8D4D</td>\n",
              "      <td>1</td>\n",
              "      <td>Harder Better Faster Stronger</td>\n",
              "      <td>Discovery</td>\n",
              "      <td>056e4f3e-d505-4dad-8ec1-d04f521cbb56</td>\n",
              "      <td>Daft Punk</td>\n",
              "      <td>2007</td>\n",
              "    </tr>\n",
              "  </tbody>\n",
              "</table>\n",
              "</div>"
            ],
            "text/plain": [
              "                                       user                song  listen_count  \\\n",
              "0  d6589314c0a9bcbca4fee0c93b14bc402363afea  SOADQPP12A67020C82            12   \n",
              "1  d6589314c0a9bcbca4fee0c93b14bc402363afea  SOAFTRR12AF72A8D4D             1   \n",
              "\n",
              "                           title               release  \\\n",
              "0               You And Me Jesus  Tribute To Jake Hess   \n",
              "1  Harder Better Faster Stronger             Discovery   \n",
              "\n",
              "                            artist_mbid artist_name  year  \n",
              "0  d8881a78-e6c6-4cd7-bd43-1a6c4b8ef4ba   Jake Hess  2004  \n",
              "1  056e4f3e-d505-4dad-8ec1-d04f521cbb56   Daft Punk  2007  "
            ]
          },
          "metadata": {
            "tags": []
          },
          "execution_count": 94
        }
      ]
    },
    {
      "metadata": {
        "id": "aNdUudkCDRDY",
        "colab_type": "text"
      },
      "cell_type": "markdown",
      "source": [
        "# Clean up memory \n",
        "\n",
        "We need to clean up the memory as we loaded huge data onto memory many of which are not at all required and which might cause runtime error if not deleted.\n",
        "It checks whether all variables in scope are pandas dataframe and returns all the dataframes that are currently loaded onto memory.\n"
      ]
    },
    {
      "metadata": {
        "id": "AgrEGd4vRyUK",
        "colab_type": "code",
        "colab": {
          "base_uri": "https://localhost:8080/",
          "height": 54
        },
        "outputId": "f299e093-eac1-416c-c452-4117c855e44b"
      },
      "cell_type": "code",
      "source": [
        "# check whether all variables in scope are pandas dataframe. \n",
        "# Dir() will return a list of string representations of the variables. \n",
        "# Simply evaluate and test whether they are pandas dataframes\n",
        "\n",
        "alldfs = [var for var in dir() if isinstance(eval(var), pd.core.frame.DataFrame)]\n",
        "\n",
        "print(alldfs) "
      ],
      "execution_count": 95,
      "outputs": [
        {
          "output_type": "stream",
          "text": [
            "['_', '_32', '_37', '_41', '_43', '_57', '_62', '_69', '_75', '_77', '_80', '_85', '_86', '_87', '_89', '_90', '_94', '__', '___', 'play_count_df', 'play_count_subset', 'song_count_df', 'song_count_subset', 'track_metadata_df', 'track_metadata_df_sub', 'triplet_dataset', 'triplet_dataset_sub_song', 'triplet_dataset_sub_song_merged']\n"
          ],
          "name": "stdout"
        }
      ]
    },
    {
      "metadata": {
        "id": "kyzwrjNSEBN5",
        "colab_type": "text"
      },
      "cell_type": "markdown",
      "source": [
        "Deleting the redundant dataframes."
      ]
    },
    {
      "metadata": {
        "id": "QzCpD00_SP-0",
        "colab_type": "code",
        "colab": {}
      },
      "cell_type": "code",
      "source": [
        "del(play_count_df)\n",
        "del(play_count_subset)\n",
        "del(song_count_df)\n",
        "del(song_count_subset)\n",
        "del(track_metadata_df)\n",
        "del(track_metadata_df_sub)\n",
        "del(triplet_dataset)\n",
        "del(triplet_dataset_sub_song)"
      ],
      "execution_count": 0,
      "outputs": []
    },
    {
      "metadata": {
        "id": "s4wCwgZXTKa3",
        "colab_type": "code",
        "colab": {
          "base_uri": "https://localhost:8080/",
          "height": 54
        },
        "outputId": "f9d10a88-4b84-473d-e978-08976f73f54b"
      },
      "cell_type": "code",
      "source": [
        "alldfs = [var for var in dir() if isinstance(eval(var), pd.core.frame.DataFrame)]\n",
        "\n",
        "print(alldfs) "
      ],
      "execution_count": 97,
      "outputs": [
        {
          "output_type": "stream",
          "text": [
            "['_', '_32', '_37', '_41', '_43', '_57', '_62', '_69', '_75', '_77', '_80', '_85', '_86', '_87', '_89', '_90', '_94', '__', '___', 'triplet_dataset_sub_song_merged']\n"
          ],
          "name": "stdout"
        }
      ]
    },
    {
      "metadata": {
        "id": "52c5eltqEPRa",
        "colab_type": "text"
      },
      "cell_type": "markdown",
      "source": [
        "# Downloading the final dataset\n",
        "Download the Final dataset with which we will be working on later on. "
      ]
    },
    {
      "metadata": {
        "id": "uvjTiq-jTZti",
        "colab_type": "code",
        "colab": {
          "base_uri": "https://localhost:8080/",
          "height": 442
        },
        "outputId": "236cd769-3ac8-4522-b34e-ba16f3945100"
      },
      "cell_type": "code",
      "source": [
        "triplet_dataset_sub_song_merged.to_csv('triplet_dataset_sub_song_merged.csv', index=False)\n",
        "files.download('triplet_dataset_sub_song_merged.csv')\n",
        "\n",
        "\n"
      ],
      "execution_count": 98,
      "outputs": [
        {
          "output_type": "stream",
          "text": [
            "----------------------------------------\n",
            "Exception happened during processing of request from ('::ffff:127.0.0.1', 60662, 0, 0)\n",
            "Traceback (most recent call last):\n",
            "  File \"/usr/lib/python3.6/socketserver.py\", line 317, in _handle_request_noblock\n",
            "    self.process_request(request, client_address)\n",
            "  File \"/usr/lib/python3.6/socketserver.py\", line 348, in process_request\n",
            "    self.finish_request(request, client_address)\n",
            "  File \"/usr/lib/python3.6/socketserver.py\", line 361, in finish_request\n",
            "    self.RequestHandlerClass(request, client_address, self)\n",
            "  File \"/usr/lib/python3.6/socketserver.py\", line 696, in __init__\n",
            "    self.handle()\n",
            "  File \"/usr/lib/python3.6/http/server.py\", line 418, in handle\n",
            "    self.handle_one_request()\n",
            "  File \"/usr/lib/python3.6/http/server.py\", line 406, in handle_one_request\n",
            "    method()\n",
            "  File \"/usr/lib/python3.6/http/server.py\", line 639, in do_GET\n",
            "    self.copyfile(f, self.wfile)\n",
            "  File \"/usr/lib/python3.6/http/server.py\", line 800, in copyfile\n",
            "    shutil.copyfileobj(source, outputfile)\n",
            "  File \"/usr/lib/python3.6/shutil.py\", line 82, in copyfileobj\n",
            "    fdst.write(buf)\n",
            "  File \"/usr/lib/python3.6/socketserver.py\", line 775, in write\n",
            "    self._sock.sendall(b)\n",
            "ConnectionResetError: [Errno 104] Connection reset by peer\n",
            "----------------------------------------\n"
          ],
          "name": "stderr"
        }
      ]
    },
    {
      "metadata": {
        "id": "NZmuDE8l315T",
        "colab_type": "text"
      },
      "cell_type": "markdown",
      "source": [
        "# Uploading the merged final dataset\n",
        "Here, we are uploading the merged final dataset to be used for analysis of music trends."
      ]
    },
    {
      "metadata": {
        "id": "1OwENllvJWvT",
        "colab_type": "code",
        "colab": {
          "resources": {
            "http://localhost:8080/nbextensions/google.colab/files.js": {
              "data": "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",
              "ok": true,
              "headers": [
                [
                  "content-type",
                  "application/javascript"
                ]
              ],
              "status": 200,
              "status_text": ""
            }
          },
          "base_uri": "https://localhost:8080/",
          "height": 72
        },
        "outputId": "e07aa5e5-fd20-475b-d229-47863008047a"
      },
      "cell_type": "code",
      "source": [
        "from google.colab import files\n",
        "uploaded = files.upload()"
      ],
      "execution_count": 1,
      "outputs": [
        {
          "output_type": "display_data",
          "data": {
            "text/html": [
              "\n",
              "     <input type=\"file\" id=\"files-2bb5ae6a-bac0-4fee-96a1-646dd777e1d7\" name=\"files[]\" multiple disabled />\n",
              "     <output id=\"result-2bb5ae6a-bac0-4fee-96a1-646dd777e1d7\">\n",
              "      Upload widget is only available when the cell has been executed in the\n",
              "      current browser session. Please rerun this cell to enable.\n",
              "      </output>\n",
              "      <script src=\"/nbextensions/google.colab/files.js\"></script> "
            ],
            "text/plain": [
              "<IPython.core.display.HTML object>"
            ]
          },
          "metadata": {
            "tags": []
          }
        },
        {
          "output_type": "stream",
          "text": [
            "Saving triplet_dataset_sub_song_merged.csv to triplet_dataset_sub_song_merged.csv\n"
          ],
          "name": "stdout"
        }
      ]
    },
    {
      "metadata": {
        "id": "5SbP5gFNL532",
        "colab_type": "code",
        "colab": {}
      },
      "cell_type": "code",
      "source": [
        "import pandas as pd"
      ],
      "execution_count": 0,
      "outputs": []
    },
    {
      "metadata": {
        "id": "6s7SRhVhT1Ti",
        "colab_type": "code",
        "colab": {
          "base_uri": "https://localhost:8080/",
          "height": 496
        },
        "outputId": "224f679c-ea71-45c9-bfaa-e4d5b5851001"
      },
      "cell_type": "code",
      "source": [
        "triplet_dataset_sub_song_merged = pd.read_csv(\"triplet_dataset_sub_song_merged.csv\")\n",
        "triplet_dataset_sub_song_merged.head()"
      ],
      "execution_count": 3,
      "outputs": [
        {
          "output_type": "execute_result",
          "data": {
            "text/html": [
              "<div>\n",
              "<style scoped>\n",
              "    .dataframe tbody tr th:only-of-type {\n",
              "        vertical-align: middle;\n",
              "    }\n",
              "\n",
              "    .dataframe tbody tr th {\n",
              "        vertical-align: top;\n",
              "    }\n",
              "\n",
              "    .dataframe thead th {\n",
              "        text-align: right;\n",
              "    }\n",
              "</style>\n",
              "<table border=\"1\" class=\"dataframe\">\n",
              "  <thead>\n",
              "    <tr style=\"text-align: right;\">\n",
              "      <th></th>\n",
              "      <th>user</th>\n",
              "      <th>song</th>\n",
              "      <th>listen_count</th>\n",
              "      <th>title</th>\n",
              "      <th>release</th>\n",
              "      <th>artist_mbid</th>\n",
              "      <th>artist_name</th>\n",
              "      <th>year</th>\n",
              "    </tr>\n",
              "  </thead>\n",
              "  <tbody>\n",
              "    <tr>\n",
              "      <th>0</th>\n",
              "      <td>d6589314c0a9bcbca4fee0c93b14bc402363afea</td>\n",
              "      <td>SOADQPP12A67020C82</td>\n",
              "      <td>12</td>\n",
              "      <td>You And Me Jesus</td>\n",
              "      <td>Tribute To Jake Hess</td>\n",
              "      <td>d8881a78-e6c6-4cd7-bd43-1a6c4b8ef4ba</td>\n",
              "      <td>Jake Hess</td>\n",
              "      <td>2004.0</td>\n",
              "    </tr>\n",
              "    <tr>\n",
              "      <th>1</th>\n",
              "      <td>d6589314c0a9bcbca4fee0c93b14bc402363afea</td>\n",
              "      <td>SOAFTRR12AF72A8D4D</td>\n",
              "      <td>1</td>\n",
              "      <td>Harder Better Faster Stronger</td>\n",
              "      <td>Discovery</td>\n",
              "      <td>056e4f3e-d505-4dad-8ec1-d04f521cbb56</td>\n",
              "      <td>Daft Punk</td>\n",
              "      <td>2007.0</td>\n",
              "    </tr>\n",
              "    <tr>\n",
              "      <th>2</th>\n",
              "      <td>d6589314c0a9bcbca4fee0c93b14bc402363afea</td>\n",
              "      <td>SOANQFY12AB0183239</td>\n",
              "      <td>1</td>\n",
              "      <td>Uprising</td>\n",
              "      <td>Uprising</td>\n",
              "      <td>fd857293-5ab8-40de-b29e-55a69d4e4d0f</td>\n",
              "      <td>Muse</td>\n",
              "      <td>0.0</td>\n",
              "    </tr>\n",
              "    <tr>\n",
              "      <th>3</th>\n",
              "      <td>d6589314c0a9bcbca4fee0c93b14bc402363afea</td>\n",
              "      <td>SOAYATB12A6701FD50</td>\n",
              "      <td>1</td>\n",
              "      <td>Breakfast At Tiffany's</td>\n",
              "      <td>Home</td>\n",
              "      <td>ae3f6a8a-c465-4707-8667-8ce0172bc417</td>\n",
              "      <td>Deep Blue Something</td>\n",
              "      <td>1993.0</td>\n",
              "    </tr>\n",
              "    <tr>\n",
              "      <th>4</th>\n",
              "      <td>d6589314c0a9bcbca4fee0c93b14bc402363afea</td>\n",
              "      <td>SOBOAFP12A8C131F36</td>\n",
              "      <td>7</td>\n",
              "      <td>Lucky (Album Version)</td>\n",
              "      <td>We Sing.  We Dance.  We Steal Things.</td>\n",
              "      <td>82eb8936-7bf6-4577-8320-a2639465206d</td>\n",
              "      <td>Jason Mraz &amp; Colbie Caillat</td>\n",
              "      <td>0.0</td>\n",
              "    </tr>\n",
              "  </tbody>\n",
              "</table>\n",
              "</div>"
            ],
            "text/plain": [
              "                                       user                song  listen_count  \\\n",
              "0  d6589314c0a9bcbca4fee0c93b14bc402363afea  SOADQPP12A67020C82            12   \n",
              "1  d6589314c0a9bcbca4fee0c93b14bc402363afea  SOAFTRR12AF72A8D4D             1   \n",
              "2  d6589314c0a9bcbca4fee0c93b14bc402363afea  SOANQFY12AB0183239             1   \n",
              "3  d6589314c0a9bcbca4fee0c93b14bc402363afea  SOAYATB12A6701FD50             1   \n",
              "4  d6589314c0a9bcbca4fee0c93b14bc402363afea  SOBOAFP12A8C131F36             7   \n",
              "\n",
              "                           title                                release  \\\n",
              "0               You And Me Jesus                   Tribute To Jake Hess   \n",
              "1  Harder Better Faster Stronger                              Discovery   \n",
              "2                       Uprising                               Uprising   \n",
              "3         Breakfast At Tiffany's                                   Home   \n",
              "4          Lucky (Album Version)  We Sing.  We Dance.  We Steal Things.   \n",
              "\n",
              "                            artist_mbid                  artist_name    year  \n",
              "0  d8881a78-e6c6-4cd7-bd43-1a6c4b8ef4ba                    Jake Hess  2004.0  \n",
              "1  056e4f3e-d505-4dad-8ec1-d04f521cbb56                    Daft Punk  2007.0  \n",
              "2  fd857293-5ab8-40de-b29e-55a69d4e4d0f                         Muse     0.0  \n",
              "3  ae3f6a8a-c465-4707-8667-8ce0172bc417          Deep Blue Something  1993.0  \n",
              "4  82eb8936-7bf6-4577-8320-a2639465206d  Jason Mraz & Colbie Caillat     0.0  "
            ]
          },
          "metadata": {
            "tags": []
          },
          "execution_count": 3
        }
      ]
    },
    {
      "metadata": {
        "id": "jWqmimV-MxT1",
        "colab_type": "text"
      },
      "cell_type": "markdown",
      "source": [
        "# Visualizations"
      ]
    },
    {
      "metadata": {
        "id": "qp5jQTuwQPat",
        "colab_type": "text"
      },
      "cell_type": "markdown",
      "source": [
        "## Most popular songs (Top 20 songs)"
      ]
    },
    {
      "metadata": {
        "id": "mxKZCShzL4o_",
        "colab_type": "code",
        "colab": {
          "base_uri": "https://localhost:8080/",
          "height": 627
        },
        "outputId": "6a5c571f-866a-431d-b65d-5461a13db443"
      },
      "cell_type": "code",
      "source": [
        "popular_songs = triplet_dataset_sub_song_merged[['title','listen_count']].groupby('title').sum().reset_index() \n",
        "popular_songs_top_20 = popular_songs.sort_values('listen_count', ascending=False).head(20)\n",
        "import matplotlib.pyplot as plt; plt.rcdefaults()\n",
        "import numpy as np\n",
        "import matplotlib.pyplot as plt\n",
        "%matplotlib inline\n",
        "\n",
        "\n",
        "title_list = (list(popular_songs_top_20['title']))\n",
        "y_pos = np.arange(len(title_list))\n",
        "listen_count = list(popular_songs_top_20['listen_count'])\n",
        "\n",
        "plt.bar(y_pos, popular_songs_top_20['listen_count'], align='center', alpha=0.5)\n",
        "plt.xticks(y_pos, title_list, rotation='vertical')\n",
        "plt.ylabel('Item count')\n",
        "plt.title('Most popular songs')\n"
      ],
      "execution_count": 17,
      "outputs": [
        {
          "output_type": "execute_result",
          "data": {
            "text/plain": [
              "Text(0.5,1,'Most popular songs')"
            ]
          },
          "metadata": {
            "tags": []
          },
          "execution_count": 17
        },
        {
          "output_type": "display_data",
          "data": {
            "image/png": "[encoded data removed]",
            "text/plain": [
              "<matplotlib.figure.Figure at 0x7f2627311a90>"
            ]
          },
          "metadata": {
            "tags": []
          }
        }
      ]
    },
    {
      "metadata": {
        "id": "nQISQS5RTct5",
        "colab_type": "text"
      },
      "cell_type": "markdown",
      "source": [
        "## Most popular releases (Top 20 releases)"
      ]
    },
    {
      "metadata": {
        "id": "S6tQcKXiQrMM",
        "colab_type": "code",
        "colab": {
          "base_uri": "https://localhost:8080/",
          "height": 452
        },
        "outputId": "eaaf14c4-7edc-4c5b-d570-6567b87eef81"
      },
      "cell_type": "code",
      "source": [
        "popular_release = triplet_dataset_sub_song_merged[['release','listen_count']].groupby('release').sum().reset_index() \n",
        "popular_release_top_20 = popular_release.sort_values('listen_count', ascending=False).head(20)\n",
        "import matplotlib.pyplot as plt; plt.rcdefaults()\n",
        "import numpy as np\n",
        "import matplotlib.pyplot as plt\n",
        "%matplotlib inline\n",
        "\n",
        "\n",
        "release_list = (list(popular_release_top_20['release']))\n",
        "y_pos = np.arange(len(release_list))\n",
        "listen_count = list(popular_release_top_20['listen_count'])\n",
        "\n",
        "plt.bar(y_pos, popular_release_top_20['listen_count'], align='center', alpha=0.5)\n",
        "plt.xticks(y_pos, release_list, rotation='vertical')\n",
        "plt.ylabel('Item count')\n",
        "plt.title('Most popular releases')\n"
      ],
      "execution_count": 25,
      "outputs": [
        {
          "output_type": "execute_result",
          "data": {
            "text/plain": [
              "Text(0.5,1,'Most popular releases')"
            ]
          },
          "metadata": {
            "tags": []
          },
          "execution_count": 25
        },
        {
          "output_type": "display_data",
          "data": {
            "image/png": "[encoded data removed]",
            "text/plain": [
              "<matplotlib.figure.Figure at 0x7f2622947588>"
            ]
          },
          "metadata": {
            "tags": []
          }
        }
      ]
    },
    {
      "metadata": {
        "id": "ybR_OoDzUOyM",
        "colab_type": "text"
      },
      "cell_type": "markdown",
      "source": [
        "## Most popular artists (Top 20 artists)"
      ]
    },
    {
      "metadata": {
        "id": "V5SdPcV4S9hw",
        "colab_type": "code",
        "colab": {
          "base_uri": "https://localhost:8080/",
          "height": 639
        },
        "outputId": "6037a6b5-dea4-462f-efdc-abd7d36b377b"
      },
      "cell_type": "code",
      "source": [
        "popular_artists = triplet_dataset_sub_song_merged[['artist_name','listen_count']].groupby('artist_name').sum().reset_index() \n",
        "popular_artists_top_20 = popular_artists.sort_values('listen_count', ascending=False).head(20)\n",
        "import matplotlib.pyplot as plt; plt.rcdefaults()\n",
        "import numpy as np\n",
        "import matplotlib.pyplot as plt\n",
        "%matplotlib inline\n",
        "\n",
        "\n",
        "artists_list = (list(popular_artists_top_20['artist_name']))\n",
        "y_pos = np.arange(len(artists_list))\n",
        "listen_count = list(popular_artists_top_20['listen_count'])\n",
        "\n",
        "plt.bar(y_pos, popular_artists_top_20['listen_count'], align='center', alpha=0.5)\n",
        "plt.xticks(y_pos, artists_list, rotation='vertical')\n",
        "plt.ylabel('Item count')\n",
        "plt.title('Most popular artists')\n"
      ],
      "execution_count": 26,
      "outputs": [
        {
          "output_type": "execute_result",
          "data": {
            "text/plain": [
              "Text(0.5,1,'Most popular artists')"
            ]
          },
          "metadata": {
            "tags": []
          },
          "execution_count": 26
        },
        {
          "output_type": "display_data",
          "data": {
            "image/png": "[encoded data removed]",
            "text/plain": [
              "<matplotlib.figure.Figure at 0x7f26226e6320>"
            ]
          },
          "metadata": {
            "tags": []
          }
        }
      ]
    },
    {
      "metadata": {
        "id": "i-Uyk-VIUXBm",
        "colab_type": "text"
      },
      "cell_type": "markdown",
      "source": [
        "## Song count distribution"
      ]
    },
    {
      "metadata": {
        "id": "_c8O_nRcUHm_",
        "colab_type": "code",
        "colab": {
          "base_uri": "https://localhost:8080/",
          "height": 359
        },
        "outputId": "89d79c55-17aa-414a-d691-de195382227c"
      },
      "cell_type": "code",
      "source": [
        "user_song_count_distribution = triplet_dataset_sub_song_merged[['user','title']].groupby('user').count().reset_index().sort_values(\n",
        "by='title',ascending = False)\n",
        "user_song_count_distribution.head(10)"
      ],
      "execution_count": 7,
      "outputs": [
        {
          "output_type": "execute_result",
          "data": {
            "text/html": [
              "<div>\n",
              "<style scoped>\n",
              "    .dataframe tbody tr th:only-of-type {\n",
              "        vertical-align: middle;\n",
              "    }\n",
              "\n",
              "    .dataframe tbody tr th {\n",
              "        vertical-align: top;\n",
              "    }\n",
              "\n",
              "    .dataframe thead th {\n",
              "        text-align: right;\n",
              "    }\n",
              "</style>\n",
              "<table border=\"1\" class=\"dataframe\">\n",
              "  <thead>\n",
              "    <tr style=\"text-align: right;\">\n",
              "      <th></th>\n",
              "      <th>user</th>\n",
              "      <th>title</th>\n",
              "    </tr>\n",
              "  </thead>\n",
              "  <tbody>\n",
              "    <tr>\n",
              "      <th>343</th>\n",
              "      <td>4e11f45d732f4861772b2906f81a7d384552ad12</td>\n",
              "      <td>809</td>\n",
              "    </tr>\n",
              "    <tr>\n",
              "      <th>1145</th>\n",
              "      <td>ee7aa84c164038c963cfd02a7e52a5598aa470c3</td>\n",
              "      <td>523</td>\n",
              "    </tr>\n",
              "    <tr>\n",
              "      <th>266</th>\n",
              "      <td>3e6ef2a572d1f6f06df71bf28190eae9e1934a61</td>\n",
              "      <td>508</td>\n",
              "    </tr>\n",
              "    <tr>\n",
              "      <th>483</th>\n",
              "      <td>6a944bfe30ae8d6b873139e8305ae131f1607d5f</td>\n",
              "      <td>497</td>\n",
              "    </tr>\n",
              "    <tr>\n",
              "      <th>411</th>\n",
              "      <td>5b498bef2e926769cbd71f9aa3009149deabe2f2</td>\n",
              "      <td>489</td>\n",
              "    </tr>\n",
              "    <tr>\n",
              "      <th>912</th>\n",
              "      <td>be21ec120193effd2a5e545c4bafa2e1f92e9816</td>\n",
              "      <td>473</td>\n",
              "    </tr>\n",
              "    <tr>\n",
              "      <th>85</th>\n",
              "      <td>13ce57b3a25ef63fa614335fd838e8024c42ec17</td>\n",
              "      <td>472</td>\n",
              "    </tr>\n",
              "    <tr>\n",
              "      <th>405</th>\n",
              "      <td>5a905f000fc1ff3df7ca807d57edb608863db05d</td>\n",
              "      <td>443</td>\n",
              "    </tr>\n",
              "    <tr>\n",
              "      <th>1142</th>\n",
              "      <td>ee30810179c611d32705fe0b71333dcb8703b30a</td>\n",
              "      <td>441</td>\n",
              "    </tr>\n",
              "    <tr>\n",
              "      <th>20</th>\n",
              "      <td>043d81932e75d5749ed5758d6420506e7bc457a5</td>\n",
              "      <td>435</td>\n",
              "    </tr>\n",
              "  </tbody>\n",
              "</table>\n",
              "</div>"
            ],
            "text/plain": [
              "                                          user  title\n",
              "343   4e11f45d732f4861772b2906f81a7d384552ad12    809\n",
              "1145  ee7aa84c164038c963cfd02a7e52a5598aa470c3    523\n",
              "266   3e6ef2a572d1f6f06df71bf28190eae9e1934a61    508\n",
              "483   6a944bfe30ae8d6b873139e8305ae131f1607d5f    497\n",
              "411   5b498bef2e926769cbd71f9aa3009149deabe2f2    489\n",
              "912   be21ec120193effd2a5e545c4bafa2e1f92e9816    473\n",
              "85    13ce57b3a25ef63fa614335fd838e8024c42ec17    472\n",
              "405   5a905f000fc1ff3df7ca807d57edb608863db05d    443\n",
              "1142  ee30810179c611d32705fe0b71333dcb8703b30a    441\n",
              "20    043d81932e75d5749ed5758d6420506e7bc457a5    435"
            ]
          },
          "metadata": {
            "tags": []
          },
          "execution_count": 7
        }
      ]
    },
    {
      "metadata": {
        "id": "ztKZmGXZhXGn",
        "colab_type": "code",
        "colab": {
          "base_uri": "https://localhost:8080/",
          "height": 170
        },
        "outputId": "1807fab8-3de5-4d8d-896b-4a2906493d2e"
      },
      "cell_type": "code",
      "source": [
        "user_song_count_distribution.title.describe()"
      ],
      "execution_count": 8,
      "outputs": [
        {
          "output_type": "execute_result",
          "data": {
            "text/plain": [
              "count    1234.000000\n",
              "mean      105.962723\n",
              "std        80.736222\n",
              "min         4.000000\n",
              "25%        50.000000\n",
              "50%        86.000000\n",
              "75%       140.000000\n",
              "max       809.000000\n",
              "Name: title, dtype: float64"
            ]
          },
          "metadata": {
            "tags": []
          },
          "execution_count": 8
        }
      ]
    },
    {
      "metadata": {
        "id": "hHzXnkdvl6Sp",
        "colab_type": "code",
        "colab": {}
      },
      "cell_type": "code",
      "source": [
        "import matplotlib.pyplot as plt"
      ],
      "execution_count": 0,
      "outputs": []
    },
    {
      "metadata": {
        "id": "v2qsxZDdiRSb",
        "colab_type": "code",
        "colab": {
          "base_uri": "https://localhost:8080/",
          "height": 379
        },
        "outputId": "98b80834-cc97-4147-9cca-adc70cc36af4"
      },
      "cell_type": "code",
      "source": [
        "x = user_song_count_distribution.title\n",
        "n, bins, patches = plt.hist(x, 50, facecolor='green', alpha=0.75)\n",
        "plt.xlabel('Play Counts')\n",
        "plt.ylabel('Num of Users')\n",
        "plt.title(r'$\\mathrm{Histogram\\ of\\ User\\ Play\\ Count\\ Distribution}\\ $')\n",
        "plt.grid(True)\n",
        "plt.show()"
      ],
      "execution_count": 10,
      "outputs": [
        {
          "output_type": "display_data",
          "data": {
            "image/png": "[encoded data removed]",
            "text/plain": [
              "<matplotlib.figure.Figure at 0x7f468360bf28>"
            ]
          },
          "metadata": {
            "tags": []
          }
        }
      ]
    },
    {
      "metadata": {
        "id": "1fjt_Yzil_B2",
        "colab_type": "code",
        "colab": {}
      },
      "cell_type": "code",
      "source": [
        ""
      ],
      "execution_count": 0,
      "outputs": []
    }
  ]
}